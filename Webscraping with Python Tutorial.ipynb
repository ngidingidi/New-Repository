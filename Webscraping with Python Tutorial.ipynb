{
 "cells": [
  {
   "cell_type": "markdown",
   "metadata": {},
   "source": [
    "# Web Scraping Tutorial Using Python"
   ]
  },
  {
   "cell_type": "markdown",
   "metadata": {},
   "source": [
    "Web scraping is a term used to describe the use of a program or algorithm to extract and process large amounts of data from the web. Whether you are a data scientist, engineer, or anybody who analyzes large amounts of datasets, the ability to scrape data from the web is a useful skill to have. Let's say you find data from the web and there is no direct way to download it, web scraping using Python is a skill you can use to extract the data into a useful that can be imported.\n",
    "\n",
    "In this tutorial, you will learn about the following:\n",
    "\n",
    "•\tData extraction from the web using Python's Beautiful Soup module\n",
    "\n",
    "•\tData manipulation and cleaning using Python's Pandas library\n",
    "\n",
    "•\tData visualization using Python's Matplotlib library\n",
    "\n",
    "The dataset used in this tutorial was taken from a 10K race that took place in Hillsboro, OR on June 2017. Specifically you will analyze the performance of the 10K runners and answer questions such as:\n",
    "\n",
    "•\tWhat was the average finish time for the runners?\n",
    "\n",
    "•\tDid the runners' finish times follow a normal distribution?\n",
    "\n",
    "•\tWere there any performance differences between males and females of various age groups?"
   ]
  },
  {
   "cell_type": "markdown",
   "metadata": {},
   "source": [
    "# Web Scraping using Beautiful Soup"
   ]
  },
  {
   "cell_type": "markdown",
   "metadata": {},
   "source": [
    "Using Jupyter Notebook, you should start by importing the necessary modules (pandas, numpy, matplotlib.pyplot, seaborn). If you don't have Jupyter Notebook installed, I recommend installing it using the Anaconda Python distribution which is available on the internet. To easily display the plots, make sure to include the line %matplotlib inline as shown below. "
   ]
  },
  {
   "cell_type": "code",
   "execution_count": 1,
   "metadata": {
    "collapsed": true
   },
   "outputs": [],
   "source": [
    "import pandas as pd\n",
    "import numpy as np\n",
    "import matplotlib.pyplot as plt\n",
    "import seaborn as sns\n",
    "%matplotlib inline"
   ]
  },
  {
   "cell_type": "markdown",
   "metadata": {},
   "source": [
    "To perform web scraping, you should also import the libraries shown below. The urllib.request module is used to open URLs. The Beautiful Soup package is used to extract data from html files. The Beautiful Soup library's name is bs4 which stands for Beautiful Soup, version 4. "
   ]
  },
  {
   "cell_type": "code",
   "execution_count": 2,
   "metadata": {
    "collapsed": true
   },
   "outputs": [],
   "source": [
    "from urllib.request import urlopen\n",
    "from bs4 import BeautifulSoup"
   ]
  },
  {
   "cell_type": "markdown",
   "metadata": {},
   "source": [
    "After importing necessary modules, you should specify the URL containing the dataset and pass it to urlopen() to get the html of the page."
   ]
  },
  {
   "cell_type": "code",
   "execution_count": 3,
   "metadata": {
    "collapsed": true
   },
   "outputs": [],
   "source": [
    "url = \"http://www.hubertiming.com/results/2017GPTR10K\"\n",
    "html = urlopen(url)"
   ]
  },
  {
   "cell_type": "markdown",
   "metadata": {},
   "source": [
    "Getting the html of the page is just the first step. Next step is to create a Beautiful Soup object from the html. This is done by passing the html to the BeautifulSoup() function. The Beautiful Soup package is used to parse the html, that is, take the raw html text and break it into Python objects. The second argument 'lxml' is the html parser whose details you do not need to worry about at this point."
   ]
  },
  {
   "cell_type": "code",
   "execution_count": 4,
   "metadata": {},
   "outputs": [
    {
     "data": {
      "text/plain": [
       "bs4.BeautifulSoup"
      ]
     },
     "execution_count": 4,
     "metadata": {},
     "output_type": "execute_result"
    }
   ],
   "source": [
    "soup = BeautifulSoup(html, 'lxml')\n",
    "type(soup)"
   ]
  },
  {
   "cell_type": "markdown",
   "metadata": {},
   "source": [
    "The soup object allows you to extract interesting information about the website you're scraping such as getting the title of the page as shown below."
   ]
  },
  {
   "cell_type": "code",
   "execution_count": 5,
   "metadata": {},
   "outputs": [
    {
     "name": "stdout",
     "output_type": "stream",
     "text": [
      "<title>2017 Intel Great Place to Run 10K \\ Urban Clash Games Race Results</title>\n"
     ]
    }
   ],
   "source": [
    "# Get the title\n",
    "title = soup.title\n",
    "print(title)"
   ]
  },
  {
   "cell_type": "markdown",
   "metadata": {},
   "source": [
    "You can also get the text of the webpage and quickly print it out to check if it is what you expect."
   ]
  },
  {
   "cell_type": "code",
   "execution_count": 6,
   "metadata": {
    "collapsed": true
   },
   "outputs": [],
   "source": [
    "# Print out the text\n",
    "text = soup.get_text()\n",
    "#print(soup.text)"
   ]
  },
  {
   "cell_type": "markdown",
   "metadata": {},
   "source": [
    "You can view the html of the webpage by right clicking anywhere on the webpage and selecting \"Inspect.\""
   ]
  },
  {
   "cell_type": "markdown",
   "metadata": {},
   "source": [
    "You can use the find_all() method of soup to extract useful html tags within a webpage. Examples of useful tags include < a > for hyperlinks, < table > for tables, < tr > for table rows, < th > for table headers, and < td > for table cells. The code below shows how to extract all the hyperlinks within the webpage."
   ]
  },
  {
   "cell_type": "code",
   "execution_count": 7,
   "metadata": {},
   "outputs": [
    {
     "data": {
      "text/plain": [
       "[<a class=\"btn btn-primary btn-lg\" href=\"/results/2017GPTR\" role=\"button\" style=\"margin: 0px 0px 5px 5px\">5K</a>,\n",
       " <a href=\"http://hubertiming.com/\">Huber Timing Home</a>,\n",
       " <a href=\"#individual\">Individual Results</a>,\n",
       " <a href=\"#team\">Team Results</a>,\n",
       " <a href=\"mailto:timing@hubertiming.com\">timing@hubertiming.com</a>,\n",
       " <a href=\"#tabs-1\" style=\"font-size: 18px\">Results</a>,\n",
       " <a name=\"individual\"></a>,\n",
       " <a name=\"team\"></a>,\n",
       " <a href=\"http://www.hubertiming.com/\"><img height=\"65\" src=\"/sites/all/themes/hubertiming/images/clockWithFinishSign_small.png\" width=\"50\"/>Huber Timing</a>,\n",
       " <a href=\"http://facebook.com/hubertiming/\"><img src=\"/results/FB-f-Logo__blue_50.png\"/></a>]"
      ]
     },
     "execution_count": 7,
     "metadata": {},
     "output_type": "execute_result"
    }
   ],
   "source": [
    "soup.find_all('a')"
   ]
  },
  {
   "cell_type": "markdown",
   "metadata": {},
   "source": [
    "As you can see from the output above, html tags sometimes come with attributes such as class, src, etc. These attributes provide additional information about html elements. You can use a for loop and the get('\"href\") method to extract and print out only hyperlinks."
   ]
  },
  {
   "cell_type": "code",
   "execution_count": 8,
   "metadata": {},
   "outputs": [
    {
     "name": "stdout",
     "output_type": "stream",
     "text": [
      "/results/2017GPTR\n",
      "http://hubertiming.com/\n",
      "#individual\n",
      "#team\n",
      "mailto:timing@hubertiming.com\n",
      "#tabs-1\n",
      "None\n",
      "None\n",
      "http://www.hubertiming.com/\n",
      "http://facebook.com/hubertiming/\n"
     ]
    }
   ],
   "source": [
    "all_links = soup.find_all(\"a\")\n",
    "for link in all_links:\n",
    "    print(link.get(\"href\"))"
   ]
  },
  {
   "cell_type": "markdown",
   "metadata": {},
   "source": [
    "To print out table rows only, pass the 'tr' argument in soup.find_all()."
   ]
  },
  {
   "cell_type": "code",
   "execution_count": 9,
   "metadata": {},
   "outputs": [
    {
     "name": "stdout",
     "output_type": "stream",
     "text": [
      "[<tr><td>Finishers:</td><td>577</td></tr>, <tr><td>Male:</td><td>414</td></tr>, <tr><td>Female:</td><td>163</td></tr>, <tr class=\"header\">\n",
      "<th>Place</th>\n",
      "<th>Bib</th>\n",
      "<th>Name</th>\n",
      "<th>Gender</th>\n",
      "<th>City</th>\n",
      "<th>State</th>\n",
      "<th>Chip Time</th>\n",
      "<th>Chip Pace</th>\n",
      "<th>Gender Place</th>\n",
      "<th>Age Group</th>\n",
      "<th>Age Group Place</th>\n",
      "<th>Time to Start</th>\n",
      "<th>Gun Time</th>\n",
      "<th>Team</th>\n",
      "</tr>, <tr>\n",
      "<td>1</td>\n",
      "<td>814</td>\n",
      "<td>JARED WILSON</td>\n",
      "<td>M</td>\n",
      "<td>TIGARD</td>\n",
      "<td>OR</td>\n",
      "<td>00:36:21</td>\n",
      "<td>05:51</td>\n",
      "<td>1 of 414</td>\n",
      "<td>M 36-45</td>\n",
      "<td>1 of 152</td>\n",
      "<td>00:00:03</td>\n",
      "<td>00:36:24</td>\n",
      "<td></td>\n",
      "</tr>, <tr>\n",
      "<td>2</td>\n",
      "<td>573</td>\n",
      "<td>NATHAN A SUSTERSIC</td>\n",
      "<td>M</td>\n",
      "<td>PORTLAND</td>\n",
      "<td>OR</td>\n",
      "<td>00:36:42</td>\n",
      "<td>05:55</td>\n",
      "<td>2 of 414</td>\n",
      "<td>M 26-35</td>\n",
      "<td>1 of 154</td>\n",
      "<td>00:00:03</td>\n",
      "<td>00:36:45</td>\n",
      "<td>INTEL TEAM F</td>\n",
      "</tr>, <tr>\n",
      "<td>3</td>\n",
      "<td>687</td>\n",
      "<td>FRANCISCO MAYA</td>\n",
      "<td>M</td>\n",
      "<td>PORTLAND</td>\n",
      "<td>OR</td>\n",
      "<td>00:37:44</td>\n",
      "<td>06:05</td>\n",
      "<td>3 of 414</td>\n",
      "<td>M 46-55</td>\n",
      "<td>1 of 64</td>\n",
      "<td>00:00:04</td>\n",
      "<td>00:37:48</td>\n",
      "<td></td>\n",
      "</tr>, <tr>\n",
      "<td>4</td>\n",
      "<td>623</td>\n",
      "<td>PAUL MORROW</td>\n",
      "<td>M</td>\n",
      "<td>BEAVERTON</td>\n",
      "<td>OR</td>\n",
      "<td>00:38:34</td>\n",
      "<td>06:13</td>\n",
      "<td>4 of 414</td>\n",
      "<td>M 36-45</td>\n",
      "<td>2 of 152</td>\n",
      "<td>00:00:03</td>\n",
      "<td>00:38:37</td>\n",
      "<td></td>\n",
      "</tr>, <tr>\n",
      "<td>5</td>\n",
      "<td>569</td>\n",
      "<td>DEREK G OSBORNE</td>\n",
      "<td>M</td>\n",
      "<td>HILLSBORO</td>\n",
      "<td>OR</td>\n",
      "<td>00:39:21</td>\n",
      "<td>06:20</td>\n",
      "<td>5 of 414</td>\n",
      "<td>M 26-35</td>\n",
      "<td>2 of 154</td>\n",
      "<td>00:00:03</td>\n",
      "<td>00:39:24</td>\n",
      "<td>INTEL TEAM F</td>\n",
      "</tr>, <tr>\n",
      "<td>6</td>\n",
      "<td>642</td>\n",
      "<td>JONATHON TRAN</td>\n",
      "<td>M</td>\n",
      "<td>PORTLAND</td>\n",
      "<td>OR</td>\n",
      "<td>00:39:49</td>\n",
      "<td>06:25</td>\n",
      "<td>6 of 414</td>\n",
      "<td>M 18-25</td>\n",
      "<td>1 of 34</td>\n",
      "<td>00:00:06</td>\n",
      "<td>00:39:55</td>\n",
      "<td></td>\n",
      "</tr>]\n"
     ]
    }
   ],
   "source": [
    "# Print the first 10 rows for sanity check\n",
    "rows = soup.find_all('tr')\n",
    "print(rows[:10])"
   ]
  },
  {
   "cell_type": "markdown",
   "metadata": {},
   "source": [
    "The goal of this tutorial is to take a table from a webpage and convert it into a dataframe for easier manipulation using Python. To get there, you should get all table rows in list form first and then convert that list into a dataframe. Below is a for loop that iterates through table rows and prints out the cells of the rows."
   ]
  },
  {
   "cell_type": "code",
   "execution_count": 10,
   "metadata": {},
   "outputs": [
    {
     "name": "stdout",
     "output_type": "stream",
     "text": [
      "[<td>14TH</td>, <td>INTEL TEAM M</td>, <td>04:43:23</td>, <td>00:58:59 - DANIELLE CASILLAS</td>, <td>01:02:06 - RAMYA MERUVA</td>, <td>01:17:06 - PALLAVI J SHINDE</td>, <td>01:25:11 - NALINI MURARI</td>]\n"
     ]
    },
    {
     "data": {
      "text/plain": [
       "bs4.element.ResultSet"
      ]
     },
     "execution_count": 10,
     "metadata": {},
     "output_type": "execute_result"
    }
   ],
   "source": [
    "for row in rows:\n",
    "    row_td = row.find_all('td')\n",
    "print(row_td)\n",
    "type(row_td)"
   ]
  },
  {
   "cell_type": "markdown",
   "metadata": {},
   "source": [
    "The output above shows that each row is printed with html tags embedded in each row. This is not what you want. You can use remove the html tags using Beautiful Soup or regular expressions. \n",
    "\n",
    "The easiest way to remove html tags is to use Beautiful Soup and it takes just one line of code to do this. Pass the string of interest into BeautifulSoup() and use the get_text() method to extract the text without html tags."
   ]
  },
  {
   "cell_type": "code",
   "execution_count": 11,
   "metadata": {},
   "outputs": [
    {
     "name": "stdout",
     "output_type": "stream",
     "text": [
      "[14TH, INTEL TEAM M, 04:43:23, 00:58:59 - DANIELLE CASILLAS, 01:02:06 - RAMYA MERUVA, 01:17:06 - PALLAVI J SHINDE, 01:25:11 - NALINI MURARI]\n"
     ]
    }
   ],
   "source": [
    "str_cells = str(row_td)\n",
    "cleantext = BeautifulSoup(str_cells, \"lxml\").get_text()\n",
    "print(cleantext)"
   ]
  },
  {
   "cell_type": "markdown",
   "metadata": {},
   "source": [
    "Using regular expressions is highly discouraged since it requires several lines of code and one can easily make mistakes. It requires importing the re (for regular expressions) module. The code below shows how to build a regular expression that finds all the characters inside the < td > html tags and replace them with an empty string for each table row. \n",
    "First, you compile a regular expression by passing a string to match to re.compile(). The dot, star, and question mark (.*?) will match an opening angle bracket followed by anything and followed by a closing angle bracket. It matches text in a non-greedy fashion, that is, it matches the shortest possible string. If you omit the question mark, it will match all the text between the first opening angle bracket and the last closing angle bracket. After compiling a regular expression, you can use the re.sub() method to find all the substrings where the regular expression matches and replace them with an empty string. The full code below generates an empty list, extract text in between html tags for each row, and append it to the assigned list."
   ]
  },
  {
   "cell_type": "code",
   "execution_count": 12,
   "metadata": {
    "scrolled": true
   },
   "outputs": [
    {
     "name": "stdout",
     "output_type": "stream",
     "text": [
      "[14TH, INTEL TEAM M, 04:43:23, 00:58:59 - DANIELLE CASILLAS, 01:02:06 - RAMYA MERUVA, 01:17:06 - PALLAVI J SHINDE, 01:25:11 - NALINI MURARI]\n"
     ]
    },
    {
     "data": {
      "text/plain": [
       "str"
      ]
     },
     "execution_count": 12,
     "metadata": {},
     "output_type": "execute_result"
    }
   ],
   "source": [
    "import re\n",
    "\n",
    "list_rows = []\n",
    "for row in rows:\n",
    "    cells = row.find_all('td')\n",
    "    str_cells = str(cells)\n",
    "    clean = re.compile('<.*?>')\n",
    "    clean2 = (re.sub(clean, '',str_cells))\n",
    "    list_rows.append(clean2)\n",
    "print(clean2)\n",
    "type(clean2)"
   ]
  },
  {
   "cell_type": "markdown",
   "metadata": {},
   "source": [
    "The next step is to convert the list into a dataframe and get a quick view the first 10 rows using Pandas."
   ]
  },
  {
   "cell_type": "code",
   "execution_count": 13,
   "metadata": {},
   "outputs": [
    {
     "data": {
      "text/html": [
       "<div>\n",
       "<style>\n",
       "    .dataframe thead tr:only-child th {\n",
       "        text-align: right;\n",
       "    }\n",
       "\n",
       "    .dataframe thead th {\n",
       "        text-align: left;\n",
       "    }\n",
       "\n",
       "    .dataframe tbody tr th {\n",
       "        vertical-align: top;\n",
       "    }\n",
       "</style>\n",
       "<table border=\"1\" class=\"dataframe\">\n",
       "  <thead>\n",
       "    <tr style=\"text-align: right;\">\n",
       "      <th></th>\n",
       "      <th>0</th>\n",
       "    </tr>\n",
       "  </thead>\n",
       "  <tbody>\n",
       "    <tr>\n",
       "      <th>0</th>\n",
       "      <td>[Finishers:, 577]</td>\n",
       "    </tr>\n",
       "    <tr>\n",
       "      <th>1</th>\n",
       "      <td>[Male:, 414]</td>\n",
       "    </tr>\n",
       "    <tr>\n",
       "      <th>2</th>\n",
       "      <td>[Female:, 163]</td>\n",
       "    </tr>\n",
       "    <tr>\n",
       "      <th>3</th>\n",
       "      <td>[]</td>\n",
       "    </tr>\n",
       "    <tr>\n",
       "      <th>4</th>\n",
       "      <td>[1, 814, JARED WILSON, M, TIGARD, OR, 00:36:21...</td>\n",
       "    </tr>\n",
       "    <tr>\n",
       "      <th>5</th>\n",
       "      <td>[2, 573, NATHAN A SUSTERSIC, M, PORTLAND, OR, ...</td>\n",
       "    </tr>\n",
       "    <tr>\n",
       "      <th>6</th>\n",
       "      <td>[3, 687, FRANCISCO MAYA, M, PORTLAND, OR, 00:3...</td>\n",
       "    </tr>\n",
       "    <tr>\n",
       "      <th>7</th>\n",
       "      <td>[4, 623, PAUL MORROW, M, BEAVERTON, OR, 00:38:...</td>\n",
       "    </tr>\n",
       "    <tr>\n",
       "      <th>8</th>\n",
       "      <td>[5, 569, DEREK G OSBORNE, M, HILLSBORO, OR, 00...</td>\n",
       "    </tr>\n",
       "    <tr>\n",
       "      <th>9</th>\n",
       "      <td>[6, 642, JONATHON TRAN, M, PORTLAND, OR, 00:39...</td>\n",
       "    </tr>\n",
       "  </tbody>\n",
       "</table>\n",
       "</div>"
      ],
      "text/plain": [
       "                                                   0\n",
       "0                                  [Finishers:, 577]\n",
       "1                                       [Male:, 414]\n",
       "2                                     [Female:, 163]\n",
       "3                                                 []\n",
       "4  [1, 814, JARED WILSON, M, TIGARD, OR, 00:36:21...\n",
       "5  [2, 573, NATHAN A SUSTERSIC, M, PORTLAND, OR, ...\n",
       "6  [3, 687, FRANCISCO MAYA, M, PORTLAND, OR, 00:3...\n",
       "7  [4, 623, PAUL MORROW, M, BEAVERTON, OR, 00:38:...\n",
       "8  [5, 569, DEREK G OSBORNE, M, HILLSBORO, OR, 00...\n",
       "9  [6, 642, JONATHON TRAN, M, PORTLAND, OR, 00:39..."
      ]
     },
     "execution_count": 13,
     "metadata": {},
     "output_type": "execute_result"
    }
   ],
   "source": [
    "df = pd.DataFrame(list_rows)\n",
    "df.head(10)"
   ]
  },
  {
   "cell_type": "markdown",
   "metadata": {},
   "source": [
    "# Data Manipulation and Cleaning"
   ]
  },
  {
   "cell_type": "markdown",
   "metadata": {},
   "source": [
    "The dataframe is not in the format we want. To clean it up, you should split the \"0\" column into multiple columns at the comma position. This is accomplished by using the str.split() method."
   ]
  },
  {
   "cell_type": "code",
   "execution_count": 14,
   "metadata": {},
   "outputs": [
    {
     "data": {
      "text/html": [
       "<div>\n",
       "<style>\n",
       "    .dataframe thead tr:only-child th {\n",
       "        text-align: right;\n",
       "    }\n",
       "\n",
       "    .dataframe thead th {\n",
       "        text-align: left;\n",
       "    }\n",
       "\n",
       "    .dataframe tbody tr th {\n",
       "        vertical-align: top;\n",
       "    }\n",
       "</style>\n",
       "<table border=\"1\" class=\"dataframe\">\n",
       "  <thead>\n",
       "    <tr style=\"text-align: right;\">\n",
       "      <th></th>\n",
       "      <th>0</th>\n",
       "      <th>1</th>\n",
       "      <th>2</th>\n",
       "      <th>3</th>\n",
       "      <th>4</th>\n",
       "      <th>5</th>\n",
       "      <th>6</th>\n",
       "      <th>7</th>\n",
       "      <th>8</th>\n",
       "      <th>9</th>\n",
       "      <th>10</th>\n",
       "      <th>11</th>\n",
       "      <th>12</th>\n",
       "      <th>13</th>\n",
       "    </tr>\n",
       "  </thead>\n",
       "  <tbody>\n",
       "    <tr>\n",
       "      <th>0</th>\n",
       "      <td>[Finishers:</td>\n",
       "      <td>577]</td>\n",
       "      <td>None</td>\n",
       "      <td>None</td>\n",
       "      <td>None</td>\n",
       "      <td>None</td>\n",
       "      <td>None</td>\n",
       "      <td>None</td>\n",
       "      <td>None</td>\n",
       "      <td>None</td>\n",
       "      <td>None</td>\n",
       "      <td>None</td>\n",
       "      <td>None</td>\n",
       "      <td>None</td>\n",
       "    </tr>\n",
       "    <tr>\n",
       "      <th>1</th>\n",
       "      <td>[Male:</td>\n",
       "      <td>414]</td>\n",
       "      <td>None</td>\n",
       "      <td>None</td>\n",
       "      <td>None</td>\n",
       "      <td>None</td>\n",
       "      <td>None</td>\n",
       "      <td>None</td>\n",
       "      <td>None</td>\n",
       "      <td>None</td>\n",
       "      <td>None</td>\n",
       "      <td>None</td>\n",
       "      <td>None</td>\n",
       "      <td>None</td>\n",
       "    </tr>\n",
       "    <tr>\n",
       "      <th>2</th>\n",
       "      <td>[Female:</td>\n",
       "      <td>163]</td>\n",
       "      <td>None</td>\n",
       "      <td>None</td>\n",
       "      <td>None</td>\n",
       "      <td>None</td>\n",
       "      <td>None</td>\n",
       "      <td>None</td>\n",
       "      <td>None</td>\n",
       "      <td>None</td>\n",
       "      <td>None</td>\n",
       "      <td>None</td>\n",
       "      <td>None</td>\n",
       "      <td>None</td>\n",
       "    </tr>\n",
       "    <tr>\n",
       "      <th>3</th>\n",
       "      <td>[]</td>\n",
       "      <td>None</td>\n",
       "      <td>None</td>\n",
       "      <td>None</td>\n",
       "      <td>None</td>\n",
       "      <td>None</td>\n",
       "      <td>None</td>\n",
       "      <td>None</td>\n",
       "      <td>None</td>\n",
       "      <td>None</td>\n",
       "      <td>None</td>\n",
       "      <td>None</td>\n",
       "      <td>None</td>\n",
       "      <td>None</td>\n",
       "    </tr>\n",
       "    <tr>\n",
       "      <th>4</th>\n",
       "      <td>[1</td>\n",
       "      <td>814</td>\n",
       "      <td>JARED WILSON</td>\n",
       "      <td>M</td>\n",
       "      <td>TIGARD</td>\n",
       "      <td>OR</td>\n",
       "      <td>00:36:21</td>\n",
       "      <td>05:51</td>\n",
       "      <td>1 of 414</td>\n",
       "      <td>M 36-45</td>\n",
       "      <td>1 of 152</td>\n",
       "      <td>00:00:03</td>\n",
       "      <td>00:36:24</td>\n",
       "      <td>]</td>\n",
       "    </tr>\n",
       "    <tr>\n",
       "      <th>5</th>\n",
       "      <td>[2</td>\n",
       "      <td>573</td>\n",
       "      <td>NATHAN A SUSTERSIC</td>\n",
       "      <td>M</td>\n",
       "      <td>PORTLAND</td>\n",
       "      <td>OR</td>\n",
       "      <td>00:36:42</td>\n",
       "      <td>05:55</td>\n",
       "      <td>2 of 414</td>\n",
       "      <td>M 26-35</td>\n",
       "      <td>1 of 154</td>\n",
       "      <td>00:00:03</td>\n",
       "      <td>00:36:45</td>\n",
       "      <td>INTEL TEAM F]</td>\n",
       "    </tr>\n",
       "    <tr>\n",
       "      <th>6</th>\n",
       "      <td>[3</td>\n",
       "      <td>687</td>\n",
       "      <td>FRANCISCO MAYA</td>\n",
       "      <td>M</td>\n",
       "      <td>PORTLAND</td>\n",
       "      <td>OR</td>\n",
       "      <td>00:37:44</td>\n",
       "      <td>06:05</td>\n",
       "      <td>3 of 414</td>\n",
       "      <td>M 46-55</td>\n",
       "      <td>1 of 64</td>\n",
       "      <td>00:00:04</td>\n",
       "      <td>00:37:48</td>\n",
       "      <td>]</td>\n",
       "    </tr>\n",
       "    <tr>\n",
       "      <th>7</th>\n",
       "      <td>[4</td>\n",
       "      <td>623</td>\n",
       "      <td>PAUL MORROW</td>\n",
       "      <td>M</td>\n",
       "      <td>BEAVERTON</td>\n",
       "      <td>OR</td>\n",
       "      <td>00:38:34</td>\n",
       "      <td>06:13</td>\n",
       "      <td>4 of 414</td>\n",
       "      <td>M 36-45</td>\n",
       "      <td>2 of 152</td>\n",
       "      <td>00:00:03</td>\n",
       "      <td>00:38:37</td>\n",
       "      <td>]</td>\n",
       "    </tr>\n",
       "    <tr>\n",
       "      <th>8</th>\n",
       "      <td>[5</td>\n",
       "      <td>569</td>\n",
       "      <td>DEREK G OSBORNE</td>\n",
       "      <td>M</td>\n",
       "      <td>HILLSBORO</td>\n",
       "      <td>OR</td>\n",
       "      <td>00:39:21</td>\n",
       "      <td>06:20</td>\n",
       "      <td>5 of 414</td>\n",
       "      <td>M 26-35</td>\n",
       "      <td>2 of 154</td>\n",
       "      <td>00:00:03</td>\n",
       "      <td>00:39:24</td>\n",
       "      <td>INTEL TEAM F]</td>\n",
       "    </tr>\n",
       "    <tr>\n",
       "      <th>9</th>\n",
       "      <td>[6</td>\n",
       "      <td>642</td>\n",
       "      <td>JONATHON TRAN</td>\n",
       "      <td>M</td>\n",
       "      <td>PORTLAND</td>\n",
       "      <td>OR</td>\n",
       "      <td>00:39:49</td>\n",
       "      <td>06:25</td>\n",
       "      <td>6 of 414</td>\n",
       "      <td>M 18-25</td>\n",
       "      <td>1 of 34</td>\n",
       "      <td>00:00:06</td>\n",
       "      <td>00:39:55</td>\n",
       "      <td>]</td>\n",
       "    </tr>\n",
       "  </tbody>\n",
       "</table>\n",
       "</div>"
      ],
      "text/plain": [
       "            0      1                    2     3           4     5          6   \\\n",
       "0  [Finishers:   577]                 None  None        None  None       None   \n",
       "1       [Male:   414]                 None  None        None  None       None   \n",
       "2     [Female:   163]                 None  None        None  None       None   \n",
       "3           []   None                 None  None        None  None       None   \n",
       "4           [1    814         JARED WILSON     M      TIGARD    OR   00:36:21   \n",
       "5           [2    573   NATHAN A SUSTERSIC     M    PORTLAND    OR   00:36:42   \n",
       "6           [3    687       FRANCISCO MAYA     M    PORTLAND    OR   00:37:44   \n",
       "7           [4    623          PAUL MORROW     M   BEAVERTON    OR   00:38:34   \n",
       "8           [5    569      DEREK G OSBORNE     M   HILLSBORO    OR   00:39:21   \n",
       "9           [6    642        JONATHON TRAN     M    PORTLAND    OR   00:39:49   \n",
       "\n",
       "       7          8         9          10         11         12  \\\n",
       "0    None       None      None       None       None       None   \n",
       "1    None       None      None       None       None       None   \n",
       "2    None       None      None       None       None       None   \n",
       "3    None       None      None       None       None       None   \n",
       "4   05:51   1 of 414   M 36-45   1 of 152   00:00:03   00:36:24   \n",
       "5   05:55   2 of 414   M 26-35   1 of 154   00:00:03   00:36:45   \n",
       "6   06:05   3 of 414   M 46-55    1 of 64   00:00:04   00:37:48   \n",
       "7   06:13   4 of 414   M 36-45   2 of 152   00:00:03   00:38:37   \n",
       "8   06:20   5 of 414   M 26-35   2 of 154   00:00:03   00:39:24   \n",
       "9   06:25   6 of 414   M 18-25    1 of 34   00:00:06   00:39:55   \n",
       "\n",
       "               13  \n",
       "0            None  \n",
       "1            None  \n",
       "2            None  \n",
       "3            None  \n",
       "4               ]  \n",
       "5   INTEL TEAM F]  \n",
       "6               ]  \n",
       "7               ]  \n",
       "8   INTEL TEAM F]  \n",
       "9               ]  "
      ]
     },
     "execution_count": 14,
     "metadata": {},
     "output_type": "execute_result"
    }
   ],
   "source": [
    "df1 = df[0].str.split(',', expand=True)\n",
    "df1.head(10)"
   ]
  },
  {
   "cell_type": "markdown",
   "metadata": {},
   "source": [
    "This looks much better but there is still work to do. The dataframe has unwanted square brackets surrounding each row. You can use the strip() method to remove the opening square bracket on column \"0.\""
   ]
  },
  {
   "cell_type": "code",
   "execution_count": 15,
   "metadata": {},
   "outputs": [
    {
     "data": {
      "text/html": [
       "<div>\n",
       "<style>\n",
       "    .dataframe thead tr:only-child th {\n",
       "        text-align: right;\n",
       "    }\n",
       "\n",
       "    .dataframe thead th {\n",
       "        text-align: left;\n",
       "    }\n",
       "\n",
       "    .dataframe tbody tr th {\n",
       "        vertical-align: top;\n",
       "    }\n",
       "</style>\n",
       "<table border=\"1\" class=\"dataframe\">\n",
       "  <thead>\n",
       "    <tr style=\"text-align: right;\">\n",
       "      <th></th>\n",
       "      <th>0</th>\n",
       "      <th>1</th>\n",
       "      <th>2</th>\n",
       "      <th>3</th>\n",
       "      <th>4</th>\n",
       "      <th>5</th>\n",
       "      <th>6</th>\n",
       "      <th>7</th>\n",
       "      <th>8</th>\n",
       "      <th>9</th>\n",
       "      <th>10</th>\n",
       "      <th>11</th>\n",
       "      <th>12</th>\n",
       "      <th>13</th>\n",
       "    </tr>\n",
       "  </thead>\n",
       "  <tbody>\n",
       "    <tr>\n",
       "      <th>0</th>\n",
       "      <td>Finishers:</td>\n",
       "      <td>577]</td>\n",
       "      <td>None</td>\n",
       "      <td>None</td>\n",
       "      <td>None</td>\n",
       "      <td>None</td>\n",
       "      <td>None</td>\n",
       "      <td>None</td>\n",
       "      <td>None</td>\n",
       "      <td>None</td>\n",
       "      <td>None</td>\n",
       "      <td>None</td>\n",
       "      <td>None</td>\n",
       "      <td>None</td>\n",
       "    </tr>\n",
       "    <tr>\n",
       "      <th>1</th>\n",
       "      <td>Male:</td>\n",
       "      <td>414]</td>\n",
       "      <td>None</td>\n",
       "      <td>None</td>\n",
       "      <td>None</td>\n",
       "      <td>None</td>\n",
       "      <td>None</td>\n",
       "      <td>None</td>\n",
       "      <td>None</td>\n",
       "      <td>None</td>\n",
       "      <td>None</td>\n",
       "      <td>None</td>\n",
       "      <td>None</td>\n",
       "      <td>None</td>\n",
       "    </tr>\n",
       "    <tr>\n",
       "      <th>2</th>\n",
       "      <td>Female:</td>\n",
       "      <td>163]</td>\n",
       "      <td>None</td>\n",
       "      <td>None</td>\n",
       "      <td>None</td>\n",
       "      <td>None</td>\n",
       "      <td>None</td>\n",
       "      <td>None</td>\n",
       "      <td>None</td>\n",
       "      <td>None</td>\n",
       "      <td>None</td>\n",
       "      <td>None</td>\n",
       "      <td>None</td>\n",
       "      <td>None</td>\n",
       "    </tr>\n",
       "    <tr>\n",
       "      <th>3</th>\n",
       "      <td>]</td>\n",
       "      <td>None</td>\n",
       "      <td>None</td>\n",
       "      <td>None</td>\n",
       "      <td>None</td>\n",
       "      <td>None</td>\n",
       "      <td>None</td>\n",
       "      <td>None</td>\n",
       "      <td>None</td>\n",
       "      <td>None</td>\n",
       "      <td>None</td>\n",
       "      <td>None</td>\n",
       "      <td>None</td>\n",
       "      <td>None</td>\n",
       "    </tr>\n",
       "    <tr>\n",
       "      <th>4</th>\n",
       "      <td>1</td>\n",
       "      <td>814</td>\n",
       "      <td>JARED WILSON</td>\n",
       "      <td>M</td>\n",
       "      <td>TIGARD</td>\n",
       "      <td>OR</td>\n",
       "      <td>00:36:21</td>\n",
       "      <td>05:51</td>\n",
       "      <td>1 of 414</td>\n",
       "      <td>M 36-45</td>\n",
       "      <td>1 of 152</td>\n",
       "      <td>00:00:03</td>\n",
       "      <td>00:36:24</td>\n",
       "      <td>]</td>\n",
       "    </tr>\n",
       "    <tr>\n",
       "      <th>5</th>\n",
       "      <td>2</td>\n",
       "      <td>573</td>\n",
       "      <td>NATHAN A SUSTERSIC</td>\n",
       "      <td>M</td>\n",
       "      <td>PORTLAND</td>\n",
       "      <td>OR</td>\n",
       "      <td>00:36:42</td>\n",
       "      <td>05:55</td>\n",
       "      <td>2 of 414</td>\n",
       "      <td>M 26-35</td>\n",
       "      <td>1 of 154</td>\n",
       "      <td>00:00:03</td>\n",
       "      <td>00:36:45</td>\n",
       "      <td>INTEL TEAM F]</td>\n",
       "    </tr>\n",
       "    <tr>\n",
       "      <th>6</th>\n",
       "      <td>3</td>\n",
       "      <td>687</td>\n",
       "      <td>FRANCISCO MAYA</td>\n",
       "      <td>M</td>\n",
       "      <td>PORTLAND</td>\n",
       "      <td>OR</td>\n",
       "      <td>00:37:44</td>\n",
       "      <td>06:05</td>\n",
       "      <td>3 of 414</td>\n",
       "      <td>M 46-55</td>\n",
       "      <td>1 of 64</td>\n",
       "      <td>00:00:04</td>\n",
       "      <td>00:37:48</td>\n",
       "      <td>]</td>\n",
       "    </tr>\n",
       "    <tr>\n",
       "      <th>7</th>\n",
       "      <td>4</td>\n",
       "      <td>623</td>\n",
       "      <td>PAUL MORROW</td>\n",
       "      <td>M</td>\n",
       "      <td>BEAVERTON</td>\n",
       "      <td>OR</td>\n",
       "      <td>00:38:34</td>\n",
       "      <td>06:13</td>\n",
       "      <td>4 of 414</td>\n",
       "      <td>M 36-45</td>\n",
       "      <td>2 of 152</td>\n",
       "      <td>00:00:03</td>\n",
       "      <td>00:38:37</td>\n",
       "      <td>]</td>\n",
       "    </tr>\n",
       "    <tr>\n",
       "      <th>8</th>\n",
       "      <td>5</td>\n",
       "      <td>569</td>\n",
       "      <td>DEREK G OSBORNE</td>\n",
       "      <td>M</td>\n",
       "      <td>HILLSBORO</td>\n",
       "      <td>OR</td>\n",
       "      <td>00:39:21</td>\n",
       "      <td>06:20</td>\n",
       "      <td>5 of 414</td>\n",
       "      <td>M 26-35</td>\n",
       "      <td>2 of 154</td>\n",
       "      <td>00:00:03</td>\n",
       "      <td>00:39:24</td>\n",
       "      <td>INTEL TEAM F]</td>\n",
       "    </tr>\n",
       "    <tr>\n",
       "      <th>9</th>\n",
       "      <td>6</td>\n",
       "      <td>642</td>\n",
       "      <td>JONATHON TRAN</td>\n",
       "      <td>M</td>\n",
       "      <td>PORTLAND</td>\n",
       "      <td>OR</td>\n",
       "      <td>00:39:49</td>\n",
       "      <td>06:25</td>\n",
       "      <td>6 of 414</td>\n",
       "      <td>M 18-25</td>\n",
       "      <td>1 of 34</td>\n",
       "      <td>00:00:06</td>\n",
       "      <td>00:39:55</td>\n",
       "      <td>]</td>\n",
       "    </tr>\n",
       "  </tbody>\n",
       "</table>\n",
       "</div>"
      ],
      "text/plain": [
       "           0      1                    2     3           4     5          6   \\\n",
       "0  Finishers:   577]                 None  None        None  None       None   \n",
       "1       Male:   414]                 None  None        None  None       None   \n",
       "2     Female:   163]                 None  None        None  None       None   \n",
       "3           ]   None                 None  None        None  None       None   \n",
       "4           1    814         JARED WILSON     M      TIGARD    OR   00:36:21   \n",
       "5           2    573   NATHAN A SUSTERSIC     M    PORTLAND    OR   00:36:42   \n",
       "6           3    687       FRANCISCO MAYA     M    PORTLAND    OR   00:37:44   \n",
       "7           4    623          PAUL MORROW     M   BEAVERTON    OR   00:38:34   \n",
       "8           5    569      DEREK G OSBORNE     M   HILLSBORO    OR   00:39:21   \n",
       "9           6    642        JONATHON TRAN     M    PORTLAND    OR   00:39:49   \n",
       "\n",
       "       7          8         9          10         11         12  \\\n",
       "0    None       None      None       None       None       None   \n",
       "1    None       None      None       None       None       None   \n",
       "2    None       None      None       None       None       None   \n",
       "3    None       None      None       None       None       None   \n",
       "4   05:51   1 of 414   M 36-45   1 of 152   00:00:03   00:36:24   \n",
       "5   05:55   2 of 414   M 26-35   1 of 154   00:00:03   00:36:45   \n",
       "6   06:05   3 of 414   M 46-55    1 of 64   00:00:04   00:37:48   \n",
       "7   06:13   4 of 414   M 36-45   2 of 152   00:00:03   00:38:37   \n",
       "8   06:20   5 of 414   M 26-35   2 of 154   00:00:03   00:39:24   \n",
       "9   06:25   6 of 414   M 18-25    1 of 34   00:00:06   00:39:55   \n",
       "\n",
       "               13  \n",
       "0            None  \n",
       "1            None  \n",
       "2            None  \n",
       "3            None  \n",
       "4               ]  \n",
       "5   INTEL TEAM F]  \n",
       "6               ]  \n",
       "7               ]  \n",
       "8   INTEL TEAM F]  \n",
       "9               ]  "
      ]
     },
     "execution_count": 15,
     "metadata": {},
     "output_type": "execute_result"
    }
   ],
   "source": [
    "df1[0] = df1[0].str.strip('[')\n",
    "df1.head(10)"
   ]
  },
  {
   "cell_type": "markdown",
   "metadata": {},
   "source": [
    "The table is missing table headers. You can use the find_all() method to get the table headers."
   ]
  },
  {
   "cell_type": "code",
   "execution_count": 16,
   "metadata": {
    "collapsed": true
   },
   "outputs": [],
   "source": [
    "col_labels = soup.find_all('th')"
   ]
  },
  {
   "cell_type": "markdown",
   "metadata": {},
   "source": [
    "Similar to table rows, you can use Beautiful Soup to extract text in between html tags for table headers."
   ]
  },
  {
   "cell_type": "code",
   "execution_count": 17,
   "metadata": {},
   "outputs": [
    {
     "name": "stdout",
     "output_type": "stream",
     "text": [
      "['[Place, Bib, Name, Gender, City, State, Chip Time, Chip Pace, Gender Place, Age Group, Age Group Place, Time to Start, Gun Time, Team]']\n"
     ]
    }
   ],
   "source": [
    "all_header = []\n",
    "col_str = str(col_labels)\n",
    "cleantext2 = BeautifulSoup(col_str, \"lxml\").get_text()\n",
    "all_header.append(cleantext2)\n",
    "print(all_header)"
   ]
  },
  {
   "cell_type": "markdown",
   "metadata": {},
   "source": [
    "You can then convert the list of headers into a pandas dataframe."
   ]
  },
  {
   "cell_type": "code",
   "execution_count": 18,
   "metadata": {},
   "outputs": [
    {
     "data": {
      "text/html": [
       "<div>\n",
       "<style>\n",
       "    .dataframe thead tr:only-child th {\n",
       "        text-align: right;\n",
       "    }\n",
       "\n",
       "    .dataframe thead th {\n",
       "        text-align: left;\n",
       "    }\n",
       "\n",
       "    .dataframe tbody tr th {\n",
       "        vertical-align: top;\n",
       "    }\n",
       "</style>\n",
       "<table border=\"1\" class=\"dataframe\">\n",
       "  <thead>\n",
       "    <tr style=\"text-align: right;\">\n",
       "      <th></th>\n",
       "      <th>0</th>\n",
       "    </tr>\n",
       "  </thead>\n",
       "  <tbody>\n",
       "    <tr>\n",
       "      <th>0</th>\n",
       "      <td>[Place, Bib, Name, Gender, City, State, Chip T...</td>\n",
       "    </tr>\n",
       "  </tbody>\n",
       "</table>\n",
       "</div>"
      ],
      "text/plain": [
       "                                                   0\n",
       "0  [Place, Bib, Name, Gender, City, State, Chip T..."
      ]
     },
     "execution_count": 18,
     "metadata": {},
     "output_type": "execute_result"
    }
   ],
   "source": [
    "df2 = pd.DataFrame(all_header)\n",
    "df2.head()"
   ]
  },
  {
   "cell_type": "markdown",
   "metadata": {},
   "source": [
    "Similarly, you can split column \"0\" into multiple columns at the comma position for all rows."
   ]
  },
  {
   "cell_type": "code",
   "execution_count": 19,
   "metadata": {},
   "outputs": [
    {
     "data": {
      "text/html": [
       "<div>\n",
       "<style>\n",
       "    .dataframe thead tr:only-child th {\n",
       "        text-align: right;\n",
       "    }\n",
       "\n",
       "    .dataframe thead th {\n",
       "        text-align: left;\n",
       "    }\n",
       "\n",
       "    .dataframe tbody tr th {\n",
       "        vertical-align: top;\n",
       "    }\n",
       "</style>\n",
       "<table border=\"1\" class=\"dataframe\">\n",
       "  <thead>\n",
       "    <tr style=\"text-align: right;\">\n",
       "      <th></th>\n",
       "      <th>0</th>\n",
       "      <th>1</th>\n",
       "      <th>2</th>\n",
       "      <th>3</th>\n",
       "      <th>4</th>\n",
       "      <th>5</th>\n",
       "      <th>6</th>\n",
       "      <th>7</th>\n",
       "      <th>8</th>\n",
       "      <th>9</th>\n",
       "      <th>10</th>\n",
       "      <th>11</th>\n",
       "      <th>12</th>\n",
       "      <th>13</th>\n",
       "    </tr>\n",
       "  </thead>\n",
       "  <tbody>\n",
       "    <tr>\n",
       "      <th>0</th>\n",
       "      <td>[Place</td>\n",
       "      <td>Bib</td>\n",
       "      <td>Name</td>\n",
       "      <td>Gender</td>\n",
       "      <td>City</td>\n",
       "      <td>State</td>\n",
       "      <td>Chip Time</td>\n",
       "      <td>Chip Pace</td>\n",
       "      <td>Gender Place</td>\n",
       "      <td>Age Group</td>\n",
       "      <td>Age Group Place</td>\n",
       "      <td>Time to Start</td>\n",
       "      <td>Gun Time</td>\n",
       "      <td>Team]</td>\n",
       "    </tr>\n",
       "  </tbody>\n",
       "</table>\n",
       "</div>"
      ],
      "text/plain": [
       "       0     1      2        3      4       5           6           7   \\\n",
       "0  [Place   Bib   Name   Gender   City   State   Chip Time   Chip Pace   \n",
       "\n",
       "              8           9                 10              11         12  \\\n",
       "0   Gender Place   Age Group   Age Group Place   Time to Start   Gun Time   \n",
       "\n",
       "       13  \n",
       "0   Team]  "
      ]
     },
     "execution_count": 19,
     "metadata": {},
     "output_type": "execute_result"
    }
   ],
   "source": [
    "df3 = df2[0].str.split(',', expand=True)\n",
    "df3.head()"
   ]
  },
  {
   "cell_type": "markdown",
   "metadata": {},
   "source": [
    "The two dataframes can be concatenated into one using the concat() method as illustrated below."
   ]
  },
  {
   "cell_type": "code",
   "execution_count": 20,
   "metadata": {
    "scrolled": true
   },
   "outputs": [
    {
     "data": {
      "text/html": [
       "<div>\n",
       "<style>\n",
       "    .dataframe thead tr:only-child th {\n",
       "        text-align: right;\n",
       "    }\n",
       "\n",
       "    .dataframe thead th {\n",
       "        text-align: left;\n",
       "    }\n",
       "\n",
       "    .dataframe tbody tr th {\n",
       "        vertical-align: top;\n",
       "    }\n",
       "</style>\n",
       "<table border=\"1\" class=\"dataframe\">\n",
       "  <thead>\n",
       "    <tr style=\"text-align: right;\">\n",
       "      <th></th>\n",
       "      <th>0</th>\n",
       "      <th>1</th>\n",
       "      <th>2</th>\n",
       "      <th>3</th>\n",
       "      <th>4</th>\n",
       "      <th>5</th>\n",
       "      <th>6</th>\n",
       "      <th>7</th>\n",
       "      <th>8</th>\n",
       "      <th>9</th>\n",
       "      <th>10</th>\n",
       "      <th>11</th>\n",
       "      <th>12</th>\n",
       "      <th>13</th>\n",
       "    </tr>\n",
       "  </thead>\n",
       "  <tbody>\n",
       "    <tr>\n",
       "      <th>0</th>\n",
       "      <td>[Place</td>\n",
       "      <td>Bib</td>\n",
       "      <td>Name</td>\n",
       "      <td>Gender</td>\n",
       "      <td>City</td>\n",
       "      <td>State</td>\n",
       "      <td>Chip Time</td>\n",
       "      <td>Chip Pace</td>\n",
       "      <td>Gender Place</td>\n",
       "      <td>Age Group</td>\n",
       "      <td>Age Group Place</td>\n",
       "      <td>Time to Start</td>\n",
       "      <td>Gun Time</td>\n",
       "      <td>Team]</td>\n",
       "    </tr>\n",
       "    <tr>\n",
       "      <th>0</th>\n",
       "      <td>Finishers:</td>\n",
       "      <td>577]</td>\n",
       "      <td>None</td>\n",
       "      <td>None</td>\n",
       "      <td>None</td>\n",
       "      <td>None</td>\n",
       "      <td>None</td>\n",
       "      <td>None</td>\n",
       "      <td>None</td>\n",
       "      <td>None</td>\n",
       "      <td>None</td>\n",
       "      <td>None</td>\n",
       "      <td>None</td>\n",
       "      <td>None</td>\n",
       "    </tr>\n",
       "    <tr>\n",
       "      <th>1</th>\n",
       "      <td>Male:</td>\n",
       "      <td>414]</td>\n",
       "      <td>None</td>\n",
       "      <td>None</td>\n",
       "      <td>None</td>\n",
       "      <td>None</td>\n",
       "      <td>None</td>\n",
       "      <td>None</td>\n",
       "      <td>None</td>\n",
       "      <td>None</td>\n",
       "      <td>None</td>\n",
       "      <td>None</td>\n",
       "      <td>None</td>\n",
       "      <td>None</td>\n",
       "    </tr>\n",
       "    <tr>\n",
       "      <th>2</th>\n",
       "      <td>Female:</td>\n",
       "      <td>163]</td>\n",
       "      <td>None</td>\n",
       "      <td>None</td>\n",
       "      <td>None</td>\n",
       "      <td>None</td>\n",
       "      <td>None</td>\n",
       "      <td>None</td>\n",
       "      <td>None</td>\n",
       "      <td>None</td>\n",
       "      <td>None</td>\n",
       "      <td>None</td>\n",
       "      <td>None</td>\n",
       "      <td>None</td>\n",
       "    </tr>\n",
       "    <tr>\n",
       "      <th>3</th>\n",
       "      <td>]</td>\n",
       "      <td>None</td>\n",
       "      <td>None</td>\n",
       "      <td>None</td>\n",
       "      <td>None</td>\n",
       "      <td>None</td>\n",
       "      <td>None</td>\n",
       "      <td>None</td>\n",
       "      <td>None</td>\n",
       "      <td>None</td>\n",
       "      <td>None</td>\n",
       "      <td>None</td>\n",
       "      <td>None</td>\n",
       "      <td>None</td>\n",
       "    </tr>\n",
       "    <tr>\n",
       "      <th>4</th>\n",
       "      <td>1</td>\n",
       "      <td>814</td>\n",
       "      <td>JARED WILSON</td>\n",
       "      <td>M</td>\n",
       "      <td>TIGARD</td>\n",
       "      <td>OR</td>\n",
       "      <td>00:36:21</td>\n",
       "      <td>05:51</td>\n",
       "      <td>1 of 414</td>\n",
       "      <td>M 36-45</td>\n",
       "      <td>1 of 152</td>\n",
       "      <td>00:00:03</td>\n",
       "      <td>00:36:24</td>\n",
       "      <td>]</td>\n",
       "    </tr>\n",
       "    <tr>\n",
       "      <th>5</th>\n",
       "      <td>2</td>\n",
       "      <td>573</td>\n",
       "      <td>NATHAN A SUSTERSIC</td>\n",
       "      <td>M</td>\n",
       "      <td>PORTLAND</td>\n",
       "      <td>OR</td>\n",
       "      <td>00:36:42</td>\n",
       "      <td>05:55</td>\n",
       "      <td>2 of 414</td>\n",
       "      <td>M 26-35</td>\n",
       "      <td>1 of 154</td>\n",
       "      <td>00:00:03</td>\n",
       "      <td>00:36:45</td>\n",
       "      <td>INTEL TEAM F]</td>\n",
       "    </tr>\n",
       "    <tr>\n",
       "      <th>6</th>\n",
       "      <td>3</td>\n",
       "      <td>687</td>\n",
       "      <td>FRANCISCO MAYA</td>\n",
       "      <td>M</td>\n",
       "      <td>PORTLAND</td>\n",
       "      <td>OR</td>\n",
       "      <td>00:37:44</td>\n",
       "      <td>06:05</td>\n",
       "      <td>3 of 414</td>\n",
       "      <td>M 46-55</td>\n",
       "      <td>1 of 64</td>\n",
       "      <td>00:00:04</td>\n",
       "      <td>00:37:48</td>\n",
       "      <td>]</td>\n",
       "    </tr>\n",
       "    <tr>\n",
       "      <th>7</th>\n",
       "      <td>4</td>\n",
       "      <td>623</td>\n",
       "      <td>PAUL MORROW</td>\n",
       "      <td>M</td>\n",
       "      <td>BEAVERTON</td>\n",
       "      <td>OR</td>\n",
       "      <td>00:38:34</td>\n",
       "      <td>06:13</td>\n",
       "      <td>4 of 414</td>\n",
       "      <td>M 36-45</td>\n",
       "      <td>2 of 152</td>\n",
       "      <td>00:00:03</td>\n",
       "      <td>00:38:37</td>\n",
       "      <td>]</td>\n",
       "    </tr>\n",
       "    <tr>\n",
       "      <th>8</th>\n",
       "      <td>5</td>\n",
       "      <td>569</td>\n",
       "      <td>DEREK G OSBORNE</td>\n",
       "      <td>M</td>\n",
       "      <td>HILLSBORO</td>\n",
       "      <td>OR</td>\n",
       "      <td>00:39:21</td>\n",
       "      <td>06:20</td>\n",
       "      <td>5 of 414</td>\n",
       "      <td>M 26-35</td>\n",
       "      <td>2 of 154</td>\n",
       "      <td>00:00:03</td>\n",
       "      <td>00:39:24</td>\n",
       "      <td>INTEL TEAM F]</td>\n",
       "    </tr>\n",
       "  </tbody>\n",
       "</table>\n",
       "</div>"
      ],
      "text/plain": [
       "           0      1                    2        3           4       5   \\\n",
       "0      [Place    Bib                 Name   Gender        City   State   \n",
       "0  Finishers:   577]                 None     None        None    None   \n",
       "1       Male:   414]                 None     None        None    None   \n",
       "2     Female:   163]                 None     None        None    None   \n",
       "3           ]   None                 None     None        None    None   \n",
       "4           1    814         JARED WILSON        M      TIGARD      OR   \n",
       "5           2    573   NATHAN A SUSTERSIC        M    PORTLAND      OR   \n",
       "6           3    687       FRANCISCO MAYA        M    PORTLAND      OR   \n",
       "7           4    623          PAUL MORROW        M   BEAVERTON      OR   \n",
       "8           5    569      DEREK G OSBORNE        M   HILLSBORO      OR   \n",
       "\n",
       "           6           7              8           9                 10  \\\n",
       "0   Chip Time   Chip Pace   Gender Place   Age Group   Age Group Place   \n",
       "0        None        None           None        None              None   \n",
       "1        None        None           None        None              None   \n",
       "2        None        None           None        None              None   \n",
       "3        None        None           None        None              None   \n",
       "4    00:36:21       05:51       1 of 414     M 36-45          1 of 152   \n",
       "5    00:36:42       05:55       2 of 414     M 26-35          1 of 154   \n",
       "6    00:37:44       06:05       3 of 414     M 46-55           1 of 64   \n",
       "7    00:38:34       06:13       4 of 414     M 36-45          2 of 152   \n",
       "8    00:39:21       06:20       5 of 414     M 26-35          2 of 154   \n",
       "\n",
       "               11         12              13  \n",
       "0   Time to Start   Gun Time           Team]  \n",
       "0            None       None            None  \n",
       "1            None       None            None  \n",
       "2            None       None            None  \n",
       "3            None       None            None  \n",
       "4        00:00:03   00:36:24               ]  \n",
       "5        00:00:03   00:36:45   INTEL TEAM F]  \n",
       "6        00:00:04   00:37:48               ]  \n",
       "7        00:00:03   00:38:37               ]  \n",
       "8        00:00:03   00:39:24   INTEL TEAM F]  "
      ]
     },
     "execution_count": 20,
     "metadata": {},
     "output_type": "execute_result"
    }
   ],
   "source": [
    "frames = [df3, df1]\n",
    "\n",
    "df4 = pd.concat(frames)\n",
    "df4.head(10)"
   ]
  },
  {
   "cell_type": "markdown",
   "metadata": {},
   "source": [
    "Below shows how to assign the first row to be the table header."
   ]
  },
  {
   "cell_type": "code",
   "execution_count": 21,
   "metadata": {},
   "outputs": [
    {
     "data": {
      "text/html": [
       "<div>\n",
       "<style>\n",
       "    .dataframe thead tr:only-child th {\n",
       "        text-align: right;\n",
       "    }\n",
       "\n",
       "    .dataframe thead th {\n",
       "        text-align: left;\n",
       "    }\n",
       "\n",
       "    .dataframe tbody tr th {\n",
       "        vertical-align: top;\n",
       "    }\n",
       "</style>\n",
       "<table border=\"1\" class=\"dataframe\">\n",
       "  <thead>\n",
       "    <tr style=\"text-align: right;\">\n",
       "      <th></th>\n",
       "      <th>[Place</th>\n",
       "      <th>Bib</th>\n",
       "      <th>Name</th>\n",
       "      <th>Gender</th>\n",
       "      <th>City</th>\n",
       "      <th>State</th>\n",
       "      <th>Chip Time</th>\n",
       "      <th>Chip Pace</th>\n",
       "      <th>Gender Place</th>\n",
       "      <th>Age Group</th>\n",
       "      <th>Age Group Place</th>\n",
       "      <th>Time to Start</th>\n",
       "      <th>Gun Time</th>\n",
       "      <th>Team]</th>\n",
       "    </tr>\n",
       "  </thead>\n",
       "  <tbody>\n",
       "    <tr>\n",
       "      <th>0</th>\n",
       "      <td>[Place</td>\n",
       "      <td>Bib</td>\n",
       "      <td>Name</td>\n",
       "      <td>Gender</td>\n",
       "      <td>City</td>\n",
       "      <td>State</td>\n",
       "      <td>Chip Time</td>\n",
       "      <td>Chip Pace</td>\n",
       "      <td>Gender Place</td>\n",
       "      <td>Age Group</td>\n",
       "      <td>Age Group Place</td>\n",
       "      <td>Time to Start</td>\n",
       "      <td>Gun Time</td>\n",
       "      <td>Team]</td>\n",
       "    </tr>\n",
       "    <tr>\n",
       "      <th>0</th>\n",
       "      <td>Finishers:</td>\n",
       "      <td>577]</td>\n",
       "      <td>None</td>\n",
       "      <td>None</td>\n",
       "      <td>None</td>\n",
       "      <td>None</td>\n",
       "      <td>None</td>\n",
       "      <td>None</td>\n",
       "      <td>None</td>\n",
       "      <td>None</td>\n",
       "      <td>None</td>\n",
       "      <td>None</td>\n",
       "      <td>None</td>\n",
       "      <td>None</td>\n",
       "    </tr>\n",
       "    <tr>\n",
       "      <th>1</th>\n",
       "      <td>Male:</td>\n",
       "      <td>414]</td>\n",
       "      <td>None</td>\n",
       "      <td>None</td>\n",
       "      <td>None</td>\n",
       "      <td>None</td>\n",
       "      <td>None</td>\n",
       "      <td>None</td>\n",
       "      <td>None</td>\n",
       "      <td>None</td>\n",
       "      <td>None</td>\n",
       "      <td>None</td>\n",
       "      <td>None</td>\n",
       "      <td>None</td>\n",
       "    </tr>\n",
       "    <tr>\n",
       "      <th>2</th>\n",
       "      <td>Female:</td>\n",
       "      <td>163]</td>\n",
       "      <td>None</td>\n",
       "      <td>None</td>\n",
       "      <td>None</td>\n",
       "      <td>None</td>\n",
       "      <td>None</td>\n",
       "      <td>None</td>\n",
       "      <td>None</td>\n",
       "      <td>None</td>\n",
       "      <td>None</td>\n",
       "      <td>None</td>\n",
       "      <td>None</td>\n",
       "      <td>None</td>\n",
       "    </tr>\n",
       "    <tr>\n",
       "      <th>3</th>\n",
       "      <td>]</td>\n",
       "      <td>None</td>\n",
       "      <td>None</td>\n",
       "      <td>None</td>\n",
       "      <td>None</td>\n",
       "      <td>None</td>\n",
       "      <td>None</td>\n",
       "      <td>None</td>\n",
       "      <td>None</td>\n",
       "      <td>None</td>\n",
       "      <td>None</td>\n",
       "      <td>None</td>\n",
       "      <td>None</td>\n",
       "      <td>None</td>\n",
       "    </tr>\n",
       "  </tbody>\n",
       "</table>\n",
       "</div>"
      ],
      "text/plain": [
       "       [Place    Bib   Name   Gender   City   State   Chip Time   Chip Pace  \\\n",
       "0      [Place    Bib   Name   Gender   City   State   Chip Time   Chip Pace   \n",
       "0  Finishers:   577]   None     None   None    None        None        None   \n",
       "1       Male:   414]   None     None   None    None        None        None   \n",
       "2     Female:   163]   None     None   None    None        None        None   \n",
       "3           ]   None   None     None   None    None        None        None   \n",
       "\n",
       "    Gender Place   Age Group   Age Group Place   Time to Start   Gun Time  \\\n",
       "0   Gender Place   Age Group   Age Group Place   Time to Start   Gun Time   \n",
       "0           None        None              None            None       None   \n",
       "1           None        None              None            None       None   \n",
       "2           None        None              None            None       None   \n",
       "3           None        None              None            None       None   \n",
       "\n",
       "    Team]  \n",
       "0   Team]  \n",
       "0    None  \n",
       "1    None  \n",
       "2    None  \n",
       "3    None  "
      ]
     },
     "execution_count": 21,
     "metadata": {},
     "output_type": "execute_result"
    }
   ],
   "source": [
    "df5 = df4.rename(columns=df4.iloc[0])\n",
    "df5.head()"
   ]
  },
  {
   "cell_type": "markdown",
   "metadata": {},
   "source": [
    "At this point, the table is almost properly formatted. For analysis, you can start by getting an overview of the data as shown below."
   ]
  },
  {
   "cell_type": "code",
   "execution_count": 22,
   "metadata": {},
   "outputs": [
    {
     "name": "stdout",
     "output_type": "stream",
     "text": [
      "<class 'pandas.core.frame.DataFrame'>\n",
      "Int64Index: 597 entries, 0 to 595\n",
      "Data columns (total 14 columns):\n",
      "[Place              597 non-null object\n",
      " Bib                596 non-null object\n",
      " Name               593 non-null object\n",
      " Gender             593 non-null object\n",
      " City               593 non-null object\n",
      " State              593 non-null object\n",
      " Chip Time          593 non-null object\n",
      " Chip Pace          578 non-null object\n",
      " Gender Place       578 non-null object\n",
      " Age Group          578 non-null object\n",
      " Age Group Place    578 non-null object\n",
      " Time to Start      578 non-null object\n",
      " Gun Time           578 non-null object\n",
      " Team]              578 non-null object\n",
      "dtypes: object(14)\n",
      "memory usage: 70.0+ KB\n"
     ]
    },
    {
     "data": {
      "text/plain": [
       "(597, 14)"
      ]
     },
     "execution_count": 22,
     "metadata": {},
     "output_type": "execute_result"
    }
   ],
   "source": [
    "df5.info()\n",
    "df5.shape"
   ]
  },
  {
   "cell_type": "markdown",
   "metadata": {},
   "source": [
    "The table has 597 rows and 14 columns. You can drop all rows with any missing values."
   ]
  },
  {
   "cell_type": "code",
   "execution_count": 23,
   "metadata": {
    "collapsed": true,
    "scrolled": true
   },
   "outputs": [],
   "source": [
    "df6 = df5.dropna(axis=0, how='any')"
   ]
  },
  {
   "cell_type": "markdown",
   "metadata": {},
   "source": [
    "Also notice how the table header is replicated as the first row in df5. It can be dropped using the following line of code."
   ]
  },
  {
   "cell_type": "code",
   "execution_count": 24,
   "metadata": {},
   "outputs": [
    {
     "data": {
      "text/html": [
       "<div>\n",
       "<style>\n",
       "    .dataframe thead tr:only-child th {\n",
       "        text-align: right;\n",
       "    }\n",
       "\n",
       "    .dataframe thead th {\n",
       "        text-align: left;\n",
       "    }\n",
       "\n",
       "    .dataframe tbody tr th {\n",
       "        vertical-align: top;\n",
       "    }\n",
       "</style>\n",
       "<table border=\"1\" class=\"dataframe\">\n",
       "  <thead>\n",
       "    <tr style=\"text-align: right;\">\n",
       "      <th></th>\n",
       "      <th>[Place</th>\n",
       "      <th>Bib</th>\n",
       "      <th>Name</th>\n",
       "      <th>Gender</th>\n",
       "      <th>City</th>\n",
       "      <th>State</th>\n",
       "      <th>Chip Time</th>\n",
       "      <th>Chip Pace</th>\n",
       "      <th>Gender Place</th>\n",
       "      <th>Age Group</th>\n",
       "      <th>Age Group Place</th>\n",
       "      <th>Time to Start</th>\n",
       "      <th>Gun Time</th>\n",
       "      <th>Team]</th>\n",
       "    </tr>\n",
       "  </thead>\n",
       "  <tbody>\n",
       "    <tr>\n",
       "      <th>4</th>\n",
       "      <td>1</td>\n",
       "      <td>814</td>\n",
       "      <td>JARED WILSON</td>\n",
       "      <td>M</td>\n",
       "      <td>TIGARD</td>\n",
       "      <td>OR</td>\n",
       "      <td>00:36:21</td>\n",
       "      <td>05:51</td>\n",
       "      <td>1 of 414</td>\n",
       "      <td>M 36-45</td>\n",
       "      <td>1 of 152</td>\n",
       "      <td>00:00:03</td>\n",
       "      <td>00:36:24</td>\n",
       "      <td>]</td>\n",
       "    </tr>\n",
       "    <tr>\n",
       "      <th>5</th>\n",
       "      <td>2</td>\n",
       "      <td>573</td>\n",
       "      <td>NATHAN A SUSTERSIC</td>\n",
       "      <td>M</td>\n",
       "      <td>PORTLAND</td>\n",
       "      <td>OR</td>\n",
       "      <td>00:36:42</td>\n",
       "      <td>05:55</td>\n",
       "      <td>2 of 414</td>\n",
       "      <td>M 26-35</td>\n",
       "      <td>1 of 154</td>\n",
       "      <td>00:00:03</td>\n",
       "      <td>00:36:45</td>\n",
       "      <td>INTEL TEAM F]</td>\n",
       "    </tr>\n",
       "    <tr>\n",
       "      <th>6</th>\n",
       "      <td>3</td>\n",
       "      <td>687</td>\n",
       "      <td>FRANCISCO MAYA</td>\n",
       "      <td>M</td>\n",
       "      <td>PORTLAND</td>\n",
       "      <td>OR</td>\n",
       "      <td>00:37:44</td>\n",
       "      <td>06:05</td>\n",
       "      <td>3 of 414</td>\n",
       "      <td>M 46-55</td>\n",
       "      <td>1 of 64</td>\n",
       "      <td>00:00:04</td>\n",
       "      <td>00:37:48</td>\n",
       "      <td>]</td>\n",
       "    </tr>\n",
       "    <tr>\n",
       "      <th>7</th>\n",
       "      <td>4</td>\n",
       "      <td>623</td>\n",
       "      <td>PAUL MORROW</td>\n",
       "      <td>M</td>\n",
       "      <td>BEAVERTON</td>\n",
       "      <td>OR</td>\n",
       "      <td>00:38:34</td>\n",
       "      <td>06:13</td>\n",
       "      <td>4 of 414</td>\n",
       "      <td>M 36-45</td>\n",
       "      <td>2 of 152</td>\n",
       "      <td>00:00:03</td>\n",
       "      <td>00:38:37</td>\n",
       "      <td>]</td>\n",
       "    </tr>\n",
       "    <tr>\n",
       "      <th>8</th>\n",
       "      <td>5</td>\n",
       "      <td>569</td>\n",
       "      <td>DEREK G OSBORNE</td>\n",
       "      <td>M</td>\n",
       "      <td>HILLSBORO</td>\n",
       "      <td>OR</td>\n",
       "      <td>00:39:21</td>\n",
       "      <td>06:20</td>\n",
       "      <td>5 of 414</td>\n",
       "      <td>M 26-35</td>\n",
       "      <td>2 of 154</td>\n",
       "      <td>00:00:03</td>\n",
       "      <td>00:39:24</td>\n",
       "      <td>INTEL TEAM F]</td>\n",
       "    </tr>\n",
       "  </tbody>\n",
       "</table>\n",
       "</div>"
      ],
      "text/plain": [
       "  [Place   Bib                 Name  Gender        City  State  Chip Time  \\\n",
       "4      1   814         JARED WILSON       M      TIGARD     OR   00:36:21   \n",
       "5      2   573   NATHAN A SUSTERSIC       M    PORTLAND     OR   00:36:42   \n",
       "6      3   687       FRANCISCO MAYA       M    PORTLAND     OR   00:37:44   \n",
       "7      4   623          PAUL MORROW       M   BEAVERTON     OR   00:38:34   \n",
       "8      5   569      DEREK G OSBORNE       M   HILLSBORO     OR   00:39:21   \n",
       "\n",
       "   Chip Pace  Gender Place  Age Group  Age Group Place  Time to Start  \\\n",
       "4      05:51      1 of 414    M 36-45         1 of 152       00:00:03   \n",
       "5      05:55      2 of 414    M 26-35         1 of 154       00:00:03   \n",
       "6      06:05      3 of 414    M 46-55          1 of 64       00:00:04   \n",
       "7      06:13      4 of 414    M 36-45         2 of 152       00:00:03   \n",
       "8      06:20      5 of 414    M 26-35         2 of 154       00:00:03   \n",
       "\n",
       "    Gun Time           Team]  \n",
       "4   00:36:24               ]  \n",
       "5   00:36:45   INTEL TEAM F]  \n",
       "6   00:37:48               ]  \n",
       "7   00:38:37               ]  \n",
       "8   00:39:24   INTEL TEAM F]  "
      ]
     },
     "execution_count": 24,
     "metadata": {},
     "output_type": "execute_result"
    }
   ],
   "source": [
    "df7 = df6.drop(df6.index[0])\n",
    "df7.head()"
   ]
  },
  {
   "cell_type": "markdown",
   "metadata": {},
   "source": [
    "You can perform more data cleaning by renaming the '[Place' and ' Team]' columns. Python is very picky about space. Make sure you incude space after the quotation mark in ' Team]'."
   ]
  },
  {
   "cell_type": "code",
   "execution_count": 25,
   "metadata": {},
   "outputs": [
    {
     "data": {
      "text/html": [
       "<div>\n",
       "<style>\n",
       "    .dataframe thead tr:only-child th {\n",
       "        text-align: right;\n",
       "    }\n",
       "\n",
       "    .dataframe thead th {\n",
       "        text-align: left;\n",
       "    }\n",
       "\n",
       "    .dataframe tbody tr th {\n",
       "        vertical-align: top;\n",
       "    }\n",
       "</style>\n",
       "<table border=\"1\" class=\"dataframe\">\n",
       "  <thead>\n",
       "    <tr style=\"text-align: right;\">\n",
       "      <th></th>\n",
       "      <th>Place</th>\n",
       "      <th>Bib</th>\n",
       "      <th>Name</th>\n",
       "      <th>Gender</th>\n",
       "      <th>City</th>\n",
       "      <th>State</th>\n",
       "      <th>Chip Time</th>\n",
       "      <th>Chip Pace</th>\n",
       "      <th>Gender Place</th>\n",
       "      <th>Age Group</th>\n",
       "      <th>Age Group Place</th>\n",
       "      <th>Time to Start</th>\n",
       "      <th>Gun Time</th>\n",
       "      <th>Team</th>\n",
       "    </tr>\n",
       "  </thead>\n",
       "  <tbody>\n",
       "    <tr>\n",
       "      <th>4</th>\n",
       "      <td>1</td>\n",
       "      <td>814</td>\n",
       "      <td>JARED WILSON</td>\n",
       "      <td>M</td>\n",
       "      <td>TIGARD</td>\n",
       "      <td>OR</td>\n",
       "      <td>00:36:21</td>\n",
       "      <td>05:51</td>\n",
       "      <td>1 of 414</td>\n",
       "      <td>M 36-45</td>\n",
       "      <td>1 of 152</td>\n",
       "      <td>00:00:03</td>\n",
       "      <td>00:36:24</td>\n",
       "      <td>]</td>\n",
       "    </tr>\n",
       "    <tr>\n",
       "      <th>5</th>\n",
       "      <td>2</td>\n",
       "      <td>573</td>\n",
       "      <td>NATHAN A SUSTERSIC</td>\n",
       "      <td>M</td>\n",
       "      <td>PORTLAND</td>\n",
       "      <td>OR</td>\n",
       "      <td>00:36:42</td>\n",
       "      <td>05:55</td>\n",
       "      <td>2 of 414</td>\n",
       "      <td>M 26-35</td>\n",
       "      <td>1 of 154</td>\n",
       "      <td>00:00:03</td>\n",
       "      <td>00:36:45</td>\n",
       "      <td>INTEL TEAM F]</td>\n",
       "    </tr>\n",
       "    <tr>\n",
       "      <th>6</th>\n",
       "      <td>3</td>\n",
       "      <td>687</td>\n",
       "      <td>FRANCISCO MAYA</td>\n",
       "      <td>M</td>\n",
       "      <td>PORTLAND</td>\n",
       "      <td>OR</td>\n",
       "      <td>00:37:44</td>\n",
       "      <td>06:05</td>\n",
       "      <td>3 of 414</td>\n",
       "      <td>M 46-55</td>\n",
       "      <td>1 of 64</td>\n",
       "      <td>00:00:04</td>\n",
       "      <td>00:37:48</td>\n",
       "      <td>]</td>\n",
       "    </tr>\n",
       "    <tr>\n",
       "      <th>7</th>\n",
       "      <td>4</td>\n",
       "      <td>623</td>\n",
       "      <td>PAUL MORROW</td>\n",
       "      <td>M</td>\n",
       "      <td>BEAVERTON</td>\n",
       "      <td>OR</td>\n",
       "      <td>00:38:34</td>\n",
       "      <td>06:13</td>\n",
       "      <td>4 of 414</td>\n",
       "      <td>M 36-45</td>\n",
       "      <td>2 of 152</td>\n",
       "      <td>00:00:03</td>\n",
       "      <td>00:38:37</td>\n",
       "      <td>]</td>\n",
       "    </tr>\n",
       "    <tr>\n",
       "      <th>8</th>\n",
       "      <td>5</td>\n",
       "      <td>569</td>\n",
       "      <td>DEREK G OSBORNE</td>\n",
       "      <td>M</td>\n",
       "      <td>HILLSBORO</td>\n",
       "      <td>OR</td>\n",
       "      <td>00:39:21</td>\n",
       "      <td>06:20</td>\n",
       "      <td>5 of 414</td>\n",
       "      <td>M 26-35</td>\n",
       "      <td>2 of 154</td>\n",
       "      <td>00:00:03</td>\n",
       "      <td>00:39:24</td>\n",
       "      <td>INTEL TEAM F]</td>\n",
       "    </tr>\n",
       "  </tbody>\n",
       "</table>\n",
       "</div>"
      ],
      "text/plain": [
       "  Place   Bib                 Name  Gender        City  State  Chip Time  \\\n",
       "4     1   814         JARED WILSON       M      TIGARD     OR   00:36:21   \n",
       "5     2   573   NATHAN A SUSTERSIC       M    PORTLAND     OR   00:36:42   \n",
       "6     3   687       FRANCISCO MAYA       M    PORTLAND     OR   00:37:44   \n",
       "7     4   623          PAUL MORROW       M   BEAVERTON     OR   00:38:34   \n",
       "8     5   569      DEREK G OSBORNE       M   HILLSBORO     OR   00:39:21   \n",
       "\n",
       "   Chip Pace  Gender Place  Age Group  Age Group Place  Time to Start  \\\n",
       "4      05:51      1 of 414    M 36-45         1 of 152       00:00:03   \n",
       "5      05:55      2 of 414    M 26-35         1 of 154       00:00:03   \n",
       "6      06:05      3 of 414    M 46-55          1 of 64       00:00:04   \n",
       "7      06:13      4 of 414    M 36-45         2 of 152       00:00:03   \n",
       "8      06:20      5 of 414    M 26-35         2 of 154       00:00:03   \n",
       "\n",
       "    Gun Time            Team  \n",
       "4   00:36:24               ]  \n",
       "5   00:36:45   INTEL TEAM F]  \n",
       "6   00:37:48               ]  \n",
       "7   00:38:37               ]  \n",
       "8   00:39:24   INTEL TEAM F]  "
      ]
     },
     "execution_count": 25,
     "metadata": {},
     "output_type": "execute_result"
    }
   ],
   "source": [
    "df7.rename(columns={'[Place': 'Place'},inplace=True)\n",
    "df7.rename(columns={' Team]': 'Team'},inplace=True)\n",
    "df7.head()"
   ]
  },
  {
   "cell_type": "markdown",
   "metadata": {},
   "source": [
    "The final data cleaning step involves removing the closing bracket for cells in the \"Team\" column. "
   ]
  },
  {
   "cell_type": "code",
   "execution_count": 26,
   "metadata": {},
   "outputs": [
    {
     "data": {
      "text/html": [
       "<div>\n",
       "<style>\n",
       "    .dataframe thead tr:only-child th {\n",
       "        text-align: right;\n",
       "    }\n",
       "\n",
       "    .dataframe thead th {\n",
       "        text-align: left;\n",
       "    }\n",
       "\n",
       "    .dataframe tbody tr th {\n",
       "        vertical-align: top;\n",
       "    }\n",
       "</style>\n",
       "<table border=\"1\" class=\"dataframe\">\n",
       "  <thead>\n",
       "    <tr style=\"text-align: right;\">\n",
       "      <th></th>\n",
       "      <th>Place</th>\n",
       "      <th>Bib</th>\n",
       "      <th>Name</th>\n",
       "      <th>Gender</th>\n",
       "      <th>City</th>\n",
       "      <th>State</th>\n",
       "      <th>Chip Time</th>\n",
       "      <th>Chip Pace</th>\n",
       "      <th>Gender Place</th>\n",
       "      <th>Age Group</th>\n",
       "      <th>Age Group Place</th>\n",
       "      <th>Time to Start</th>\n",
       "      <th>Gun Time</th>\n",
       "      <th>Team</th>\n",
       "    </tr>\n",
       "  </thead>\n",
       "  <tbody>\n",
       "    <tr>\n",
       "      <th>4</th>\n",
       "      <td>1</td>\n",
       "      <td>814</td>\n",
       "      <td>JARED WILSON</td>\n",
       "      <td>M</td>\n",
       "      <td>TIGARD</td>\n",
       "      <td>OR</td>\n",
       "      <td>00:36:21</td>\n",
       "      <td>05:51</td>\n",
       "      <td>1 of 414</td>\n",
       "      <td>M 36-45</td>\n",
       "      <td>1 of 152</td>\n",
       "      <td>00:00:03</td>\n",
       "      <td>00:36:24</td>\n",
       "      <td></td>\n",
       "    </tr>\n",
       "    <tr>\n",
       "      <th>5</th>\n",
       "      <td>2</td>\n",
       "      <td>573</td>\n",
       "      <td>NATHAN A SUSTERSIC</td>\n",
       "      <td>M</td>\n",
       "      <td>PORTLAND</td>\n",
       "      <td>OR</td>\n",
       "      <td>00:36:42</td>\n",
       "      <td>05:55</td>\n",
       "      <td>2 of 414</td>\n",
       "      <td>M 26-35</td>\n",
       "      <td>1 of 154</td>\n",
       "      <td>00:00:03</td>\n",
       "      <td>00:36:45</td>\n",
       "      <td>INTEL TEAM F</td>\n",
       "    </tr>\n",
       "    <tr>\n",
       "      <th>6</th>\n",
       "      <td>3</td>\n",
       "      <td>687</td>\n",
       "      <td>FRANCISCO MAYA</td>\n",
       "      <td>M</td>\n",
       "      <td>PORTLAND</td>\n",
       "      <td>OR</td>\n",
       "      <td>00:37:44</td>\n",
       "      <td>06:05</td>\n",
       "      <td>3 of 414</td>\n",
       "      <td>M 46-55</td>\n",
       "      <td>1 of 64</td>\n",
       "      <td>00:00:04</td>\n",
       "      <td>00:37:48</td>\n",
       "      <td></td>\n",
       "    </tr>\n",
       "    <tr>\n",
       "      <th>7</th>\n",
       "      <td>4</td>\n",
       "      <td>623</td>\n",
       "      <td>PAUL MORROW</td>\n",
       "      <td>M</td>\n",
       "      <td>BEAVERTON</td>\n",
       "      <td>OR</td>\n",
       "      <td>00:38:34</td>\n",
       "      <td>06:13</td>\n",
       "      <td>4 of 414</td>\n",
       "      <td>M 36-45</td>\n",
       "      <td>2 of 152</td>\n",
       "      <td>00:00:03</td>\n",
       "      <td>00:38:37</td>\n",
       "      <td></td>\n",
       "    </tr>\n",
       "    <tr>\n",
       "      <th>8</th>\n",
       "      <td>5</td>\n",
       "      <td>569</td>\n",
       "      <td>DEREK G OSBORNE</td>\n",
       "      <td>M</td>\n",
       "      <td>HILLSBORO</td>\n",
       "      <td>OR</td>\n",
       "      <td>00:39:21</td>\n",
       "      <td>06:20</td>\n",
       "      <td>5 of 414</td>\n",
       "      <td>M 26-35</td>\n",
       "      <td>2 of 154</td>\n",
       "      <td>00:00:03</td>\n",
       "      <td>00:39:24</td>\n",
       "      <td>INTEL TEAM F</td>\n",
       "    </tr>\n",
       "  </tbody>\n",
       "</table>\n",
       "</div>"
      ],
      "text/plain": [
       "  Place   Bib                 Name  Gender        City  State  Chip Time  \\\n",
       "4     1   814         JARED WILSON       M      TIGARD     OR   00:36:21   \n",
       "5     2   573   NATHAN A SUSTERSIC       M    PORTLAND     OR   00:36:42   \n",
       "6     3   687       FRANCISCO MAYA       M    PORTLAND     OR   00:37:44   \n",
       "7     4   623          PAUL MORROW       M   BEAVERTON     OR   00:38:34   \n",
       "8     5   569      DEREK G OSBORNE       M   HILLSBORO     OR   00:39:21   \n",
       "\n",
       "   Chip Pace  Gender Place  Age Group  Age Group Place  Time to Start  \\\n",
       "4      05:51      1 of 414    M 36-45         1 of 152       00:00:03   \n",
       "5      05:55      2 of 414    M 26-35         1 of 154       00:00:03   \n",
       "6      06:05      3 of 414    M 46-55          1 of 64       00:00:04   \n",
       "7      06:13      4 of 414    M 36-45         2 of 152       00:00:03   \n",
       "8      06:20      5 of 414    M 26-35         2 of 154       00:00:03   \n",
       "\n",
       "    Gun Time           Team  \n",
       "4   00:36:24                 \n",
       "5   00:36:45   INTEL TEAM F  \n",
       "6   00:37:48                 \n",
       "7   00:38:37                 \n",
       "8   00:39:24   INTEL TEAM F  "
      ]
     },
     "execution_count": 26,
     "metadata": {},
     "output_type": "execute_result"
    }
   ],
   "source": [
    "df7['Team'] = df7['Team'].str.strip(']')\n",
    "df7.head()"
   ]
  },
  {
   "cell_type": "markdown",
   "metadata": {},
   "source": [
    "It took a while to get here but at this point the dataframe is in the desired format. Now you can move on to the exciting part and start plotting the data and computing interesting statistics."
   ]
  },
  {
   "cell_type": "markdown",
   "metadata": {},
   "source": [
    "# Data Analysis and Visualization"
   ]
  },
  {
   "cell_type": "markdown",
   "metadata": {},
   "source": [
    "The first question to answer is, what was the average finish time (in minutes) for the runners? You need to convert the column \"Chip Time\" into just minutes. One way to do this is to convert the column to a list first for manipulation."
   ]
  },
  {
   "cell_type": "code",
   "execution_count": 27,
   "metadata": {},
   "outputs": [
    {
     "name": "stdout",
     "output_type": "stream",
     "text": [
      "<class 'pandas.core.frame.DataFrame'>\n",
      "Int64Index: 577 entries, 4 to 580\n",
      "Data columns (total 14 columns):\n",
      "Place               577 non-null object\n",
      " Bib                577 non-null object\n",
      " Name               577 non-null object\n",
      " Gender             577 non-null object\n",
      " City               577 non-null object\n",
      " State              577 non-null object\n",
      " Chip Time          577 non-null object\n",
      " Chip Pace          577 non-null object\n",
      " Gender Place       577 non-null object\n",
      " Age Group          577 non-null object\n",
      " Age Group Place    577 non-null object\n",
      " Time to Start      577 non-null object\n",
      " Gun Time           577 non-null object\n",
      "Team                577 non-null object\n",
      "dtypes: object(14)\n",
      "memory usage: 67.6+ KB\n"
     ]
    }
   ],
   "source": [
    "df7.info()"
   ]
  },
  {
   "cell_type": "code",
   "execution_count": 28,
   "metadata": {
    "collapsed": true
   },
   "outputs": [],
   "source": [
    "time_list = df7[' Chip Time'].tolist()\n",
    "\n",
    "# You can use a for loop to convert 'Chip Time' to minutes\n",
    "\n",
    "time_mins = []\n",
    "for i in time_list:\n",
    "    h, m, s = i.split(':')\n",
    "    math = (int(h) * 3600 + int(m) * 60 + int(s))/60\n",
    "    time_mins.append(math)\n",
    "#print(time_mins)"
   ]
  },
  {
   "cell_type": "markdown",
   "metadata": {},
   "source": [
    "The next step is to convert the list back into a dataframe and make a new column (\"Runner_mins\") for runner chip times expressed in just minutes."
   ]
  },
  {
   "cell_type": "code",
   "execution_count": 29,
   "metadata": {},
   "outputs": [
    {
     "data": {
      "text/html": [
       "<div>\n",
       "<style>\n",
       "    .dataframe thead tr:only-child th {\n",
       "        text-align: right;\n",
       "    }\n",
       "\n",
       "    .dataframe thead th {\n",
       "        text-align: left;\n",
       "    }\n",
       "\n",
       "    .dataframe tbody tr th {\n",
       "        vertical-align: top;\n",
       "    }\n",
       "</style>\n",
       "<table border=\"1\" class=\"dataframe\">\n",
       "  <thead>\n",
       "    <tr style=\"text-align: right;\">\n",
       "      <th></th>\n",
       "      <th>Place</th>\n",
       "      <th>Bib</th>\n",
       "      <th>Name</th>\n",
       "      <th>Gender</th>\n",
       "      <th>City</th>\n",
       "      <th>State</th>\n",
       "      <th>Chip Time</th>\n",
       "      <th>Chip Pace</th>\n",
       "      <th>Gender Place</th>\n",
       "      <th>Age Group</th>\n",
       "      <th>Age Group Place</th>\n",
       "      <th>Time to Start</th>\n",
       "      <th>Gun Time</th>\n",
       "      <th>Team</th>\n",
       "      <th>Runner_mins</th>\n",
       "    </tr>\n",
       "  </thead>\n",
       "  <tbody>\n",
       "    <tr>\n",
       "      <th>4</th>\n",
       "      <td>1</td>\n",
       "      <td>814</td>\n",
       "      <td>JARED WILSON</td>\n",
       "      <td>M</td>\n",
       "      <td>TIGARD</td>\n",
       "      <td>OR</td>\n",
       "      <td>00:36:21</td>\n",
       "      <td>05:51</td>\n",
       "      <td>1 of 414</td>\n",
       "      <td>M 36-45</td>\n",
       "      <td>1 of 152</td>\n",
       "      <td>00:00:03</td>\n",
       "      <td>00:36:24</td>\n",
       "      <td></td>\n",
       "      <td>36.350000</td>\n",
       "    </tr>\n",
       "    <tr>\n",
       "      <th>5</th>\n",
       "      <td>2</td>\n",
       "      <td>573</td>\n",
       "      <td>NATHAN A SUSTERSIC</td>\n",
       "      <td>M</td>\n",
       "      <td>PORTLAND</td>\n",
       "      <td>OR</td>\n",
       "      <td>00:36:42</td>\n",
       "      <td>05:55</td>\n",
       "      <td>2 of 414</td>\n",
       "      <td>M 26-35</td>\n",
       "      <td>1 of 154</td>\n",
       "      <td>00:00:03</td>\n",
       "      <td>00:36:45</td>\n",
       "      <td>INTEL TEAM F</td>\n",
       "      <td>36.700000</td>\n",
       "    </tr>\n",
       "    <tr>\n",
       "      <th>6</th>\n",
       "      <td>3</td>\n",
       "      <td>687</td>\n",
       "      <td>FRANCISCO MAYA</td>\n",
       "      <td>M</td>\n",
       "      <td>PORTLAND</td>\n",
       "      <td>OR</td>\n",
       "      <td>00:37:44</td>\n",
       "      <td>06:05</td>\n",
       "      <td>3 of 414</td>\n",
       "      <td>M 46-55</td>\n",
       "      <td>1 of 64</td>\n",
       "      <td>00:00:04</td>\n",
       "      <td>00:37:48</td>\n",
       "      <td></td>\n",
       "      <td>37.733333</td>\n",
       "    </tr>\n",
       "    <tr>\n",
       "      <th>7</th>\n",
       "      <td>4</td>\n",
       "      <td>623</td>\n",
       "      <td>PAUL MORROW</td>\n",
       "      <td>M</td>\n",
       "      <td>BEAVERTON</td>\n",
       "      <td>OR</td>\n",
       "      <td>00:38:34</td>\n",
       "      <td>06:13</td>\n",
       "      <td>4 of 414</td>\n",
       "      <td>M 36-45</td>\n",
       "      <td>2 of 152</td>\n",
       "      <td>00:00:03</td>\n",
       "      <td>00:38:37</td>\n",
       "      <td></td>\n",
       "      <td>38.566667</td>\n",
       "    </tr>\n",
       "    <tr>\n",
       "      <th>8</th>\n",
       "      <td>5</td>\n",
       "      <td>569</td>\n",
       "      <td>DEREK G OSBORNE</td>\n",
       "      <td>M</td>\n",
       "      <td>HILLSBORO</td>\n",
       "      <td>OR</td>\n",
       "      <td>00:39:21</td>\n",
       "      <td>06:20</td>\n",
       "      <td>5 of 414</td>\n",
       "      <td>M 26-35</td>\n",
       "      <td>2 of 154</td>\n",
       "      <td>00:00:03</td>\n",
       "      <td>00:39:24</td>\n",
       "      <td>INTEL TEAM F</td>\n",
       "      <td>39.350000</td>\n",
       "    </tr>\n",
       "  </tbody>\n",
       "</table>\n",
       "</div>"
      ],
      "text/plain": [
       "  Place   Bib                 Name  Gender        City  State  Chip Time  \\\n",
       "4     1   814         JARED WILSON       M      TIGARD     OR   00:36:21   \n",
       "5     2   573   NATHAN A SUSTERSIC       M    PORTLAND     OR   00:36:42   \n",
       "6     3   687       FRANCISCO MAYA       M    PORTLAND     OR   00:37:44   \n",
       "7     4   623          PAUL MORROW       M   BEAVERTON     OR   00:38:34   \n",
       "8     5   569      DEREK G OSBORNE       M   HILLSBORO     OR   00:39:21   \n",
       "\n",
       "   Chip Pace  Gender Place  Age Group  Age Group Place  Time to Start  \\\n",
       "4      05:51      1 of 414    M 36-45         1 of 152       00:00:03   \n",
       "5      05:55      2 of 414    M 26-35         1 of 154       00:00:03   \n",
       "6      06:05      3 of 414    M 46-55          1 of 64       00:00:04   \n",
       "7      06:13      4 of 414    M 36-45         2 of 152       00:00:03   \n",
       "8      06:20      5 of 414    M 26-35         2 of 154       00:00:03   \n",
       "\n",
       "    Gun Time           Team  Runner_mins  \n",
       "4   00:36:24                   36.350000  \n",
       "5   00:36:45   INTEL TEAM F    36.700000  \n",
       "6   00:37:48                   37.733333  \n",
       "7   00:38:37                   38.566667  \n",
       "8   00:39:24   INTEL TEAM F    39.350000  "
      ]
     },
     "execution_count": 29,
     "metadata": {},
     "output_type": "execute_result"
    }
   ],
   "source": [
    "df7['Runner_mins'] = time_mins\n",
    "df7.head()"
   ]
  },
  {
   "cell_type": "markdown",
   "metadata": {},
   "source": [
    "Here is how to efficiently do math on a pandas column without converting to a list and then DataFrame again as described above. Thanks to Mirko Savasta!"
   ]
  },
  {
   "cell_type": "code",
   "execution_count": 30,
   "metadata": {},
   "outputs": [
    {
     "data": {
      "text/plain": [
       "4       36.350000\n",
       "5       36.700000\n",
       "6       37.733333\n",
       "7       38.566667\n",
       "8       39.350000\n",
       "9       39.816667\n",
       "10      40.066667\n",
       "11      40.083333\n",
       "12      40.283333\n",
       "13      40.350000\n",
       "14      40.466667\n",
       "15      40.600000\n",
       "16      40.716667\n",
       "17      41.016667\n",
       "18      41.316667\n",
       "19      41.716667\n",
       "20      41.983333\n",
       "21      42.383333\n",
       "22      42.483333\n",
       "23      42.583333\n",
       "24      42.600000\n",
       "25      42.616667\n",
       "26      42.933333\n",
       "27      43.433333\n",
       "28      43.450000\n",
       "29      43.666667\n",
       "30      43.700000\n",
       "31      43.716667\n",
       "32      43.766667\n",
       "33      43.766667\n",
       "          ...    \n",
       "551     83.500000\n",
       "552     83.500000\n",
       "553     83.750000\n",
       "554     83.900000\n",
       "555     84.150000\n",
       "556     84.316667\n",
       "557     85.183333\n",
       "558     85.816667\n",
       "559     85.816667\n",
       "560     86.366667\n",
       "561     87.133333\n",
       "562     88.316667\n",
       "563     88.550000\n",
       "564     89.066667\n",
       "565     89.066667\n",
       "566     91.333333\n",
       "567     92.166667\n",
       "568     92.300000\n",
       "569     92.333333\n",
       "570     92.466667\n",
       "571     92.500000\n",
       "572     93.833333\n",
       "573     94.750000\n",
       "574     94.800000\n",
       "575     97.166667\n",
       "576     98.283333\n",
       "577     98.516667\n",
       "578     98.533333\n",
       "579    100.783333\n",
       "580    101.300000\n",
       "Name:  Chip Time, Length: 577, dtype: float64"
      ]
     },
     "execution_count": 30,
     "metadata": {},
     "output_type": "execute_result"
    }
   ],
   "source": [
    "df7[' Chip Time'].str.split(':').apply(lambda x: int(x[0]) * 60 + int(x[1]) + int(x[2])/60)"
   ]
  },
  {
   "cell_type": "markdown",
   "metadata": {},
   "source": [
    "The code below shows how to calculate statistics for numeric columns only in the dataframe."
   ]
  },
  {
   "cell_type": "code",
   "execution_count": 31,
   "metadata": {},
   "outputs": [
    {
     "data": {
      "text/html": [
       "<div>\n",
       "<style>\n",
       "    .dataframe thead tr:only-child th {\n",
       "        text-align: right;\n",
       "    }\n",
       "\n",
       "    .dataframe thead th {\n",
       "        text-align: left;\n",
       "    }\n",
       "\n",
       "    .dataframe tbody tr th {\n",
       "        vertical-align: top;\n",
       "    }\n",
       "</style>\n",
       "<table border=\"1\" class=\"dataframe\">\n",
       "  <thead>\n",
       "    <tr style=\"text-align: right;\">\n",
       "      <th></th>\n",
       "      <th>Runner_mins</th>\n",
       "    </tr>\n",
       "  </thead>\n",
       "  <tbody>\n",
       "    <tr>\n",
       "      <th>count</th>\n",
       "      <td>577.000000</td>\n",
       "    </tr>\n",
       "    <tr>\n",
       "      <th>mean</th>\n",
       "      <td>60.035933</td>\n",
       "    </tr>\n",
       "    <tr>\n",
       "      <th>std</th>\n",
       "      <td>11.970623</td>\n",
       "    </tr>\n",
       "    <tr>\n",
       "      <th>min</th>\n",
       "      <td>36.350000</td>\n",
       "    </tr>\n",
       "    <tr>\n",
       "      <th>25%</th>\n",
       "      <td>51.000000</td>\n",
       "    </tr>\n",
       "    <tr>\n",
       "      <th>50%</th>\n",
       "      <td>59.016667</td>\n",
       "    </tr>\n",
       "    <tr>\n",
       "      <th>75%</th>\n",
       "      <td>67.266667</td>\n",
       "    </tr>\n",
       "    <tr>\n",
       "      <th>max</th>\n",
       "      <td>101.300000</td>\n",
       "    </tr>\n",
       "  </tbody>\n",
       "</table>\n",
       "</div>"
      ],
      "text/plain": [
       "       Runner_mins\n",
       "count   577.000000\n",
       "mean     60.035933\n",
       "std      11.970623\n",
       "min      36.350000\n",
       "25%      51.000000\n",
       "50%      59.016667\n",
       "75%      67.266667\n",
       "max     101.300000"
      ]
     },
     "execution_count": 31,
     "metadata": {},
     "output_type": "execute_result"
    }
   ],
   "source": [
    "df7.describe(include=[np.number])"
   ]
  },
  {
   "cell_type": "markdown",
   "metadata": {},
   "source": [
    "Interestingly, the average chip time for all runners was ~60 mins. The fastest 10K runner finished in 36.35 mins and the slowest runner finished in 101.30 minutes. \n",
    "\n",
    "A boxplot is another useful tool to visualize summary statistics (maximum, minimum, medium, first quartile, third quartile, including outliers). Below are data summary statistics for the runners shown in a boxplot. For data visualization, it is convenient to first import parameters from the pylab module that comes with matplotlib and set the same size for all figures to avoid doing it for each figure."
   ]
  },
  {
   "cell_type": "code",
   "execution_count": 32,
   "metadata": {
    "collapsed": true
   },
   "outputs": [],
   "source": [
    "from pylab import rcParams\n",
    "rcParams['figure.figsize'] = 15, 5"
   ]
  },
  {
   "cell_type": "code",
   "execution_count": 33,
   "metadata": {},
   "outputs": [
    {
     "data": {
      "text/plain": [
       "([<matplotlib.axis.XTick at 0x6eed57e978>],\n",
       " <a list of 1 Text xticklabel objects>)"
      ]
     },
     "execution_count": 33,
     "metadata": {},
     "output_type": "execute_result"
    },
    {
     "data": {
      "image/png": "[encoded data removed]",
      "text/plain": [
       "<matplotlib.figure.Figure at 0x6eed517780>"
      ]
     },
     "metadata": {},
     "output_type": "display_data"
    }
   ],
   "source": [
    "df7.boxplot(column='Runner_mins')\n",
    "plt.grid(True, axis='y')\n",
    "plt.ylabel('Chip Time')\n",
    "plt.xticks([1], ['Runners'])"
   ]
  },
  {
   "cell_type": "markdown",
   "metadata": {},
   "source": [
    "The second question to answer is: Did the runners' finish times follow a normal distribution?\n",
    "\n",
    "Below is a distribution plot of runners' chip times plotted using the seaborn library. The distribution looks almost normal."
   ]
  },
  {
   "cell_type": "code",
   "execution_count": 34,
   "metadata": {},
   "outputs": [
    {
     "data": {
      "image/png": "[encoded data removed]",
      "text/plain": [
       "<matplotlib.figure.Figure at 0x6eed532080>"
      ]
     },
     "metadata": {},
     "output_type": "display_data"
    }
   ],
   "source": [
    "x = df7['Runner_mins']\n",
    "ax = sns.distplot(x, hist=True, kde=True, rug=False, color='m', bins=25, hist_kws={'edgecolor':'black'})\n",
    "plt.show()"
   ]
  },
  {
   "cell_type": "markdown",
   "metadata": {},
   "source": [
    "The third question deals with whether there were any performance differences between males and females of various age groups. Below is a distribution plot of chip times for males and females."
   ]
  },
  {
   "cell_type": "code",
   "execution_count": 35,
   "metadata": {},
   "outputs": [
    {
     "data": {
      "text/plain": [
       "<matplotlib.legend.Legend at 0x6eee5d06d8>"
      ]
     },
     "execution_count": 35,
     "metadata": {},
     "output_type": "execute_result"
    },
    {
     "data": {
      "image/png": "[encoded data removed]",
      "text/plain": [
       "<matplotlib.figure.Figure at 0x6eee546f60>"
      ]
     },
     "metadata": {},
     "output_type": "display_data"
    }
   ],
   "source": [
    "f_fuko = df7.loc[df7[' Gender']==' F']['Runner_mins']\n",
    "m_fuko = df7.loc[df7[' Gender']==' M']['Runner_mins']\n",
    "sns.distplot(f_fuko, hist=True, kde=True, rug=False, hist_kws={'edgecolor':'black'}, label='Female')\n",
    "sns.distplot(m_fuko, hist=False, kde=True, rug=False, hist_kws={'edgecolor':'black'}, label='Male')\n",
    "plt.legend()"
   ]
  },
  {
   "cell_type": "markdown",
   "metadata": {},
   "source": [
    "The distribution indicates that females were slower than males on average. You can use the groupby() method to compute summary statistics for males and females separately as shown below."
   ]
  },
  {
   "cell_type": "code",
   "execution_count": 36,
   "metadata": {},
   "outputs": [
    {
     "name": "stdout",
     "output_type": "stream",
     "text": [
      "        Runner_mins                                                         \\\n",
      "              count       mean        std        min        25%        50%   \n",
      " Gender                                                                      \n",
      " F            163.0  66.119223  12.184440  43.766667  58.758333  64.616667   \n",
      " M            414.0  57.640821  11.011857  36.350000  49.395833  55.791667   \n",
      "\n",
      "                                \n",
      "               75%         max  \n",
      " Gender                         \n",
      " F       72.058333  101.300000  \n",
      " M       64.804167   98.516667  \n"
     ]
    }
   ],
   "source": [
    "g_stats = df7.groupby(\" Gender\", as_index=True).describe()\n",
    "print(g_stats)"
   ]
  },
  {
   "cell_type": "markdown",
   "metadata": {},
   "source": [
    "The average chip time for all females and males was ~66 mins and ~58 mins, respectively. Below is a side-by-side boxplot comparison of male and female finish times."
   ]
  },
  {
   "cell_type": "code",
   "execution_count": 37,
   "metadata": {
    "scrolled": true
   },
   "outputs": [
    {
     "name": "stderr",
     "output_type": "stream",
     "text": [
      "C:\\Users\\smasango\\AppData\\Local\\Continuum\\anaconda3\\lib\\site-packages\\numpy\\core\\fromnumeric.py:57: FutureWarning: reshape is deprecated and will raise in a subsequent release. Please use .values.reshape(...) instead\n",
      "  return getattr(obj, method)(*args, **kwds)\n"
     ]
    },
    {
     "data": {
      "text/plain": [
       "Text(0.5,0.98,'')"
      ]
     },
     "execution_count": 37,
     "metadata": {},
     "output_type": "execute_result"
    },
    {
     "data": {
      "image/png": "[encoded data removed]",
      "text/plain": [
       "<matplotlib.figure.Figure at 0x6eee5f5d30>"
      ]
     },
     "metadata": {},
     "output_type": "display_data"
    }
   ],
   "source": [
    "df7.boxplot(column='Runner_mins', by=' Gender')\n",
    "plt.ylabel('Chip Time')\n",
    "plt.suptitle(\"\")"
   ]
  },
  {
   "cell_type": "markdown",
   "metadata": {},
   "source": [
    "# Conclusion"
   ]
  },
  {
   "cell_type": "markdown",
   "metadata": {},
   "source": [
    "In this tutorial you performed web scraping using Python. You used the Beautiful Soup library to parse html data and convert it into a form that can be used for analysis. You performed cleaning of the data in Python and created useful plots (boxplots, barplots, and distribution plots) to reveal interesting trends using Python's matplotlib and seaborn libraries. After this tutorial, you should be able to use Python to easily scrape data from the web, apply cleaning techniques and extract useful insights from the data."
   ]
  }
 ],
 "metadata": {
  "kernelspec": {
   "display_name": "Python 3",
   "language": "python",
   "name": "python3"
  },
  "language_info": {
   "codemirror_mode": {
    "name": "ipython",
    "version": 3
   },
   "file_extension": ".py",
   "mimetype": "text/x-python",
   "name": "python",
   "nbconvert_exporter": "python",
   "pygments_lexer": "ipython3",
   "version": "3.6.3"
  }
 },
 "nbformat": 4,
 "nbformat_minor": 2
}
